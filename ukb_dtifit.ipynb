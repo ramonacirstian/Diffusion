{
 "cells": [
  {
   "cell_type": "markdown",
   "metadata": {},
   "source": [
    "### Globals"
   ]
  },
  {
   "cell_type": "code",
   "execution_count": 1,
   "metadata": {},
   "outputs": [
    {
     "name": "stdout",
     "output_type": "stream",
     "text": [
      "Found 20 subjects to process\n"
     ]
    }
   ],
   "source": [
    "import os\n",
    "import glob\n",
    "import subprocess\n",
    "import sys\n",
    "\n",
    "rootdir = '/home/preclineu/ramcir/Desktop/Diffusion/'\n",
    "qcdir = os.path.join(rootdir, 'qc', 'dMRI')\n",
    "\n",
    "cluster_log_dir = '/home/preclineu/ramcir/DCCN/TorqueLogs'\n",
    "\n",
    "cmd_qsub_base = ['/home/preclineu/ramcir/DCCN/Scripts/SubmitToCluster.py',\n",
    "                 '-length', '102400',\n",
    "                 '-memory', '2gb',\n",
    "                 '-logfiledir', cluster_log_dir\n",
    "                ]\n",
    "\n",
    "sub_dirs = sorted(glob.glob(os.path.join(rootdir,'subjects','*')))\n",
    "print('Found', len(sub_dirs), 'subjects to process')"
   ]
  },
  {
   "cell_type": "markdown",
   "metadata": {},
   "source": [
    "### Sort subjects"
   ]
  },
  {
   "cell_type": "code",
   "execution_count": 18,
   "metadata": {},
   "outputs": [
    {
     "name": "stdout",
     "output_type": "stream",
     "text": [
      "Found 1 subjects who are missing dMRI data\n",
      "Found 13 subjects ready to process\n",
      "Found 6 subjects already processed\n"
     ]
    }
   ],
   "source": [
    "sub_no_dmri = []\n",
    "sub_ready = []\n",
    "sub_complete = []\n",
    "\n",
    "# Control the number of subjects\n",
    "sdirs = sub_dirs\n",
    "\n",
    "for s in sdirs:\n",
    "    subid = os.path.splitext(os.path.basename(s))[0]\n",
    "\n",
    "    dmridir = os.path.join(s, 'dMRI', 'dMRI')\n",
    "    ssepath = os.path.join(dmridir, 'dti_sse.nii.gz')  \n",
    "    \n",
    "    try:\n",
    "        #Check if dMRI data is avalable\n",
    "        if os.path.exists(dmridir) == False:  \n",
    "#             print(subid,' dMRI data not found.')\n",
    "            sub_no_dmri.append(subid)\n",
    "        else:  \n",
    "            #Check if quad has already been run\n",
    "            if os.path.exists(ssepath) == True:\n",
    "#                print(subid,' DTIfit already done.') \n",
    "                sub_complete.append(s)\n",
    "            else:\n",
    "#                print(subid,' is ready for DTIfit') \n",
    "                 sub_ready.append(s)\n",
    "    except:\n",
    "        print(subid, ' ignored due to', sys.exc_info()[0], '. Continuing with the next subject.')\n",
    "        \n",
    "print('Found', len(sub_no_dmri), 'subjects who are missing dMRI data')\n",
    "print('Found', len(sub_ready), 'subjects ready to process')\n",
    "print('Found', len(sub_complete), 'subjects already processed')"
   ]
  },
  {
   "cell_type": "markdown",
   "metadata": {},
   "source": [
    "### Run DTIfit"
   ]
  },
  {
   "cell_type": "code",
   "execution_count": 20,
   "metadata": {},
   "outputs": [
    {
     "name": "stdout",
     "output_type": "stream",
     "text": [
      "1003456\n"
     ]
    }
   ],
   "source": [
    "for s in sub_ready[0:1]:\n",
    "    subid = os.path.splitext(os.path.basename(s))[0]\n",
    "    print(subid)\n",
    "    #create paths for all files used in bash command\n",
    "    dmridir = os.path.join(s, 'dMRI', 'dMRI')\n",
    "    \n",
    "    #command for extracting b=1000 volumes\n",
    "    dwiextract_cmd = ['dwiextract --export_grad_fsl ',\n",
    "                       dmridir + '/dwi_b1000.new_vecs',  \n",
    "                       dmridir + '/dwi_b1000.new_vals',\n",
    "                       '-fslgrad ',                           \n",
    "                       dmridir + '/bvecs ' + dmridir + '/bvals', \n",
    "                       '-shell 0.0,1000.0 ' + dmridir + '/data_ud.nii.gz',\n",
    "                       dmridir + '/dwi_b1000.nii.gz ']\n",
    "\n",
    "    #command for creating mask of b=1000 volumes\n",
    "    bet_cmd = ['bet ' + dmridir + '/dwi_b1000.nii.gz',\n",
    "                dmridir + '/dwi_b1000_brain.nii.gz' + ' -f 0.50 -m -R']\n",
    "\n",
    "    #command for DTIfit - creating dti parameters including sse\n",
    "    dtifit_cmd = ['dtifit',\n",
    "                  '-k ' + dmridir + '/dwi_b1000.nii.gz',\n",
    "                  '-o ' + dmridir + '/dti',\n",
    "                  '-m ' + dmridir + '/dwi_b1000_brain.nii.gz', \n",
    "                  '-r ' + dmridir + '/dwi_b1000.new_vecs', \n",
    "                  '-b ' + dmridir + '/dwi_b1000.new_vals',\n",
    "                  '--sse']\n",
    "\n",
    "    #Join comands and sumbit process\n",
    "    proc_cmd = '\"%s\"' % str(' '.join(dwiextract_cmd) + '&& ' + ' '.join(bet_cmd) + ' && ' + ' '.join(dtifit_cmd))\n",
    "    cmd_qsub = cmd_qsub_base + ['-name', 'UKB_dtifit_' + subid ,'-command', proc_cmd]     \n",
    "    subprocess.run(' '.join(cmd_qsub), shell=True)\n",
    "\n",
    "\n",
    " "
   ]
  },
  {
   "cell_type": "code",
   "execution_count": 17,
   "metadata": {},
   "outputs": [],
   "source": [
    "s = '/home/preclineu/ramcir/Desktop/Diffusion/subjects/1000432'\n",
    "subid = os.path.splitext(os.path.basename(s))\n",
    "#create paths for all files used in bash command\n",
    "dmridir = os.path.join(s, 'dMRI', 'dMRI')\n",
    "ssepath = os.path.join(dmridir, 'dti_sse.nii.gz ')\n",
    "dwi_b1000_new_vecs = os.path.join(dmridir, 'dwi_b1000.new_bvecs ')\n",
    "dwi_b1000_new_val = os.path.join(dmridir, 'dwi_b1000.new_val ')\n",
    "bvals = os.path.join(dmridir, 'bvals ')\n",
    "bvecs = os.path.join(dmridir, 'bvecs ')\n",
    "data = os.path.join(dmridir, 'data_ud.nii.gz ')\n",
    "dwi_b1000 = os.path.join(dmridir, 'dwi_b1000.nii.gz ')\n",
    "dwi_b1000_mask = os.path.join(dmridir, 'dwi_b1000_mask.nii.gz ')\n",
    "        \n",
    "#command for extracting b=1000 volumes\n",
    "dwiextract_cmd = ['dwiextract --export_grad_fsl ',\n",
    "                  dmridir + '/dwi_b1000.new_vecs',  \n",
    "                  dmridir + '/dwi_b1000.new_vals',\n",
    "                  '-fslgrad ',                           \n",
    "                  dmridir + '/bvecs ' + dmridir + '/bvals', \n",
    "                  '-shell 0.0,1000.0 ' + dmridir + '/data_ud.nii.gz',\n",
    "                  dmridir + '/dwi_b1000.nii.gz ']\n",
    "\n",
    "#command for creating mask of b=1000 volumes\n",
    "bet_cmd = ['bet ' + dmridir + '/dwi_b1000.nii.gz',\n",
    "           dmridir + '/dwi_b1000_brain.nii.gz' + ' -f 0.50 -m -R']\n",
    "\n",
    "#command for DTIfit - creating dti parameters including sse\n",
    "dtifit_cmd = ['dtifit',\n",
    "                  '-k ' + dmridir + '/dwi_b1000.nii.gz',\n",
    "                  '-o ' + dmridir + '/dti',\n",
    "                  '-m ' + dmridir + '/dwi_b1000_brain.nii.gz', \n",
    "                  '-r ' + dmridir + '/dwi_b1000.new_vecs', \n",
    "                  '-b ' + dmridir + '/dwi_b1000.new_vals',\n",
    "                  '--sse']\n",
    "\n",
    "#Join comands and sumbit process\n",
    "proc_cmd = \"%s\" % str(' '.join(dwiextract_cmd) + '&& ' + ' '.join(bet_cmd) + ' && ' + ' '.join(dtifit_cmd))\n",
    "cmd_qsub = '-name' + 'UKB_dtifit_' + str(subid) + '-command' + proc_cmd    \n",
    "# subprocess.run(' '.join(cmd_qsub), shell=True)\n"
   ]
  },
  {
   "cell_type": "code",
   "execution_count": null,
   "metadata": {},
   "outputs": [],
   "source": []
  }
 ],
 "metadata": {
  "kernelspec": {
   "display_name": "Python 3",
   "language": "python",
   "name": "python3"
  },
  "language_info": {
   "codemirror_mode": {
    "name": "ipython",
    "version": 3
   },
   "file_extension": ".py",
   "mimetype": "text/x-python",
   "name": "python",
   "nbconvert_exporter": "python",
   "pygments_lexer": "ipython3",
   "version": "3.8.3"
  }
 },
 "nbformat": 4,
 "nbformat_minor": 4
}
