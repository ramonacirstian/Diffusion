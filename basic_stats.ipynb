{
 "cells": [
  {
   "cell_type": "markdown",
   "metadata": {},
   "source": [
    "# Basic Statistics on UKB dataset"
   ]
  },
  {
   "cell_type": "markdown",
   "metadata": {},
   "source": [
    "Set up global variables and import modules"
   ]
  },
  {
   "cell_type": "code",
   "execution_count": 1,
   "metadata": {},
   "outputs": [],
   "source": [
    "%matplotlib inline\n",
    "import os\n",
    "import sys\n",
    "import pandas as pd\n",
    "import matplotlib\n",
    "import matplotlib.pyplot as plt\n",
    "import matplotlib.gridspec as gridspec \n",
    "\n",
    "ukb_root = '/project_freenas/3022017.02/UKB'\n",
    "sys.path.append(os.path.join(ukb_root,'scripts'))\n",
    "from ukb_utils import get_variables_UKB, lookup_UKB\n",
    "\n",
    "ukb_idp_dir = os.path.join(ukb_root,'phenotypes','current')"
   ]
  },
  {
   "cell_type": "markdown",
   "metadata": {},
   "source": [
    "### Read dataframe"
   ]
  },
  {
   "cell_type": "code",
   "execution_count": 2,
   "metadata": {},
   "outputs": [],
   "source": [
    "basic_demo = pd.read_csv(os.path.join(ukb_idp_dir,'01_basic_demographics.csv'),nrows=1)\n",
    "brain_IDPs = pd.read_csv(os.path.join(ukb_idp_dir,'31_brain_IDPs.csv'),nrows=1)\n",
    "misc = pd.read_csv(os.path.join(ukb_idp_dir,'99_miscellaneous.csv'),nrows=1)"
   ]
  },
  {
   "cell_type": "markdown",
   "metadata": {},
   "source": [
    "Lookup field IDs with Lookup_UKB function <br>\n",
    "This will to help figure out what fields are present in the dataframe"
   ]
  },
  {
   "cell_type": "code",
   "execution_count": 3,
   "metadata": {},
   "outputs": [],
   "source": [
    "def list_field_names(data_frame):\n",
    "    fields_ID = data_frame.columns\n",
    "    field_list = pd.DataFrame(columns=['Field', 'FieldID'])\n",
    "    for idf in fields_ID[1:]:\n",
    "        fld = lookup_UKB(field_ids=[idf]) \n",
    "        field_list = field_list.append(fld)\n",
    "    return field_list "
   ]
  },
  {
   "cell_type": "markdown",
   "metadata": {},
   "source": [
    "Save resulted dataframes for later use. This may take a while."
   ]
  },
  {
   "cell_type": "code",
   "execution_count": 4,
   "metadata": {},
   "outputs": [],
   "source": [
    "#brain_IDPs_fields = list_field_names(brain_IDPs)\n",
    "#brain_IDPs_fields.to_csv('/home/preclineu/ramcir/Desktop/Diffusion/diffusion_nm/brain_IDPs_fields.csv')\n",
    "#basic_demo_fields = list_field_names(basic_demo)\n",
    "#basic_demo_fields.to_csv('/home/preclineu/ramcir/Desktop/Diffusion/diffusion_nm/basic_demo_fields.csv')\n",
    "#misc_fields = list_field_names(misc)"
   ]
  },
  {
   "cell_type": "markdown",
   "metadata": {},
   "source": [
    "Turns out some dataframes contain too many fields to allow for visual inspection. As an alternative, specific metrics (field names) can be looked up on the UK Biobank website and their respective field codes can be used to extract data from the containing dataframe."
   ]
  },
  {
   "cell_type": "markdown",
   "metadata": {},
   "source": [
    "### Identifying and extracting subjects who present diffusion data"
   ]
  },
  {
   "cell_type": "markdown",
   "metadata": {},
   "source": [
    "Join the dataframes which contain dMRI metrics with the demographics dataframes and exclude NaNs"
   ]
  },
  {
   "cell_type": "code",
   "execution_count": 5,
   "metadata": {},
   "outputs": [
    {
     "data": {
      "text/html": [
       "<div>\n",
       "<style>\n",
       "    .dataframe thead tr:only-child th {\n",
       "        text-align: right;\n",
       "    }\n",
       "\n",
       "    .dataframe thead th {\n",
       "        text-align: left;\n",
       "    }\n",
       "\n",
       "    .dataframe tbody tr th {\n",
       "        vertical-align: top;\n",
       "    }\n",
       "</style>\n",
       "<table border=\"1\" class=\"dataframe\">\n",
       "  <thead>\n",
       "    <tr style=\"text-align: right;\">\n",
       "      <th></th>\n",
       "      <th>Field</th>\n",
       "      <th>FieldID</th>\n",
       "    </tr>\n",
       "  </thead>\n",
       "  <tbody>\n",
       "    <tr>\n",
       "      <th>2893</th>\n",
       "      <td>Standard deviation of apparent translation in ...</td>\n",
       "      <td>25922</td>\n",
       "    </tr>\n",
       "  </tbody>\n",
       "</table>\n",
       "</div>"
      ],
      "text/plain": [
       "                                                  Field FieldID\n",
       "2893  Standard deviation of apparent translation in ...   25922"
      ]
     },
     "execution_count": 5,
     "metadata": {},
     "output_type": "execute_result"
    }
   ],
   "source": [
    "lookup_UKB(field_ids=[25922])"
   ]
  },
  {
   "cell_type": "code",
   "execution_count": 6,
   "metadata": {},
   "outputs": [
    {
     "data": {
      "text/html": [
       "<div>\n",
       "<style>\n",
       "    .dataframe thead tr:only-child th {\n",
       "        text-align: right;\n",
       "    }\n",
       "\n",
       "    .dataframe thead th {\n",
       "        text-align: left;\n",
       "    }\n",
       "\n",
       "    .dataframe tbody tr th {\n",
       "        vertical-align: top;\n",
       "    }\n",
       "</style>\n",
       "<table border=\"1\" class=\"dataframe\">\n",
       "  <thead>\n",
       "    <tr style=\"text-align: right;\">\n",
       "      <th></th>\n",
       "    </tr>\n",
       "  </thead>\n",
       "  <tbody>\n",
       "    <tr>\n",
       "      <th>0</th>\n",
       "    </tr>\n",
       "  </tbody>\n",
       "</table>\n",
       "</div>"
      ],
      "text/plain": [
       "Empty DataFrame\n",
       "Columns: []\n",
       "Index: [0]"
      ]
     },
     "execution_count": 6,
     "metadata": {},
     "output_type": "execute_result"
    }
   ],
   "source": [
    "# first check inside the brain IDP dataframe for the metric we are interssted in\n",
    "fieldID_check = brain_IDPs.filter(regex='25922')\n",
    "fieldID_check"
   ]
  },
  {
   "cell_type": "markdown",
   "metadata": {},
   "source": [
    "#### Using my way (more complicated)"
   ]
  },
  {
   "cell_type": "code",
   "execution_count": 7,
   "metadata": {},
   "outputs": [],
   "source": [
    "# read the demographic metric we are intersted in, remove the NANs\n",
    "basic_demo = pd.read_csv(os.path.join(ukb_idp_dir,'01_basic_demographics.csv'), usecols = ['eid','34-0.0'], low_memory = True)\n",
    "basic_demo.dropna(inplace=True)"
   ]
  },
  {
   "cell_type": "code",
   "execution_count": 8,
   "metadata": {},
   "outputs": [],
   "source": [
    "# read the dMRI metric we are intersted in, remove the NANs\n",
    "brain_IDPs = pd.read_csv(os.path.join(ukb_idp_dir,'31_brain_IDPs.csv'), usecols = ['eid','25737-2.0'], low_memory = True)\n",
    "brain_IDPs.dropna(inplace=True)"
   ]
  },
  {
   "cell_type": "code",
   "execution_count": 9,
   "metadata": {},
   "outputs": [],
   "source": [
    "# filer the demo dataframe by the participants in the diffusion dataframe\n",
    "filt_basic_demo = basic_demo.loc[basic_demo['eid'].isin(brain_IDPs['eid'])]"
   ]
  },
  {
   "cell_type": "markdown",
   "metadata": {},
   "source": [
    "#### Using load_ukb_metrics (more straightforward)"
   ]
  },
  {
   "cell_type": "code",
   "execution_count": 10,
   "metadata": {},
   "outputs": [],
   "source": [
    "# we get the sex from basic demographics\n",
    "field_codes = ['eid','31-0.0']\n",
    "field_names = ['eid', 'sex']\n",
    "df_sex, subs = get_variables_UKB(os.path.join(ukb_idp_dir,'01_basic_demographics.csv'), field_codes, field_names)\n",
    "\n",
    "# we load the age from the miscellaneous (because age at enrollment != age at scanning)\n",
    "field_codes = ['eid', '21003-2.0', '54-2.0']\n",
    "field_names = ['eid', 'age', 'site']\n",
    "df_age, subs = get_variables_UKB(os.path.join(ukb_idp_dir,'99_miscellaneous.csv'), field_codes, field_names)\n",
    "\n",
    "# load dMRI data\n",
    "field_codes = ['eid', '25746-2.0', '25737-2.0']\n",
    "field_names = ['eid', 'dmri_slices_corrected', 'discrepancy_dmri_t1']\n",
    "df_dmri, subs = get_variables_UKB(os.path.join(ukb_idp_dir,'31_brain_IDPs.csv'), field_codes, field_names)"
   ]
  },
  {
   "cell_type": "code",
   "execution_count": 11,
   "metadata": {},
   "outputs": [],
   "source": [
    "# join the dataframes\n",
    "dmri_demo = df_sex.join(df_age).join(df_dmri)\n",
    "\n",
    "dmri_demo.dropna(inplace=True)"
   ]
  },
  {
   "cell_type": "code",
   "execution_count": 12,
   "metadata": {},
   "outputs": [
    {
     "name": "stdout",
     "output_type": "stream",
     "text": [
      "(40527, 5)\n"
     ]
    }
   ],
   "source": [
    "print(dmri_demo.shape)\n",
    "#display(df)"
   ]
  },
  {
   "cell_type": "markdown",
   "metadata": {},
   "source": [
    "### Summary statistics"
   ]
  },
  {
   "cell_type": "markdown",
   "metadata": {},
   "source": [
    "### Threshold the distribution of the dMRI parameters"
   ]
  },
  {
   "cell_type": "code",
   "execution_count": 13,
   "metadata": {},
   "outputs": [],
   "source": [
    "#def remove_outlier(dataFrame, col_name, threshold):\n",
    "#    return dataFrame[dataFrame[col_name] < threshold]\n",
    "#th1_dmri_demo = remove_outlier(dmri_demo,'discrepancy_dmri_t1', 0.7)"
   ]
  },
  {
   "cell_type": "code",
   "execution_count": 14,
   "metadata": {},
   "outputs": [],
   "source": [
    "th1_dmri_demo = dmri_demo.copy(deep=True)\n",
    "th1_dmri_demo['discrepancy_dmri_t1'] = dmri_demo['discrepancy_dmri_t1'].mask(dmri_demo['discrepancy_dmri_t1']>0.7)\n",
    "th1_dmri_demo.dropna(inplace=True)"
   ]
  },
  {
   "cell_type": "code",
   "execution_count": 15,
   "metadata": {},
   "outputs": [],
   "source": [
    "th2_dmri_demo = th1_dmri_demo.copy(deep=True)\n",
    "th2_dmri_demo['dmri_slices_corrected'] = th1_dmri_demo['dmri_slices_corrected'].mask(th1_dmri_demo['dmri_slices_corrected']>100)\n",
    "th2_dmri_demo.dropna(inplace=True)"
   ]
  },
  {
   "cell_type": "code",
   "execution_count": 16,
   "metadata": {},
   "outputs": [
    {
     "data": {
      "text/plain": [
       "(40527, 5)"
      ]
     },
     "metadata": {},
     "output_type": "display_data"
    },
    {
     "data": {
      "text/plain": [
       "(38140, 5)"
      ]
     },
     "metadata": {},
     "output_type": "display_data"
    },
    {
     "data": {
      "text/plain": [
       "(35873, 5)"
      ]
     },
     "metadata": {},
     "output_type": "display_data"
    }
   ],
   "source": [
    "display(dmri_demo.shape)\n",
    "display(th1_dmri_demo.shape)\n",
    "display(th2_dmri_demo.shape)"
   ]
  },
  {
   "cell_type": "code",
   "execution_count": null,
   "metadata": {},
   "outputs": [],
   "source": [
    "fig1 = plt.figure(figsize=(20, 5))\n",
    "\n",
    "plt.subplot(1,5,1)\n",
    "plt.hist(dmri_demo['sex'], bins=3)\n",
    "plt.xlabel('Sex')\n",
    "plt.ylabel('Frequency')\n",
    "plt.title('Sex')\n",
    "\n",
    "plt.subplot(1,5,2)\n",
    "plt.hist(dmri_demo['age'], bins=20)\n",
    "plt.xlabel('Age')\n",
    "plt.ylabel('Frequency')\n",
    "plt.title('Age')\n",
    "\n",
    "plt.subplot(1,5,3)\n",
    "plt.hist(dmri_demo['site'], bins=5)\n",
    "plt.xlabel('Site')\n",
    "plt.ylabel('Frequency')\n",
    "plt.title('Site')\n",
    "\n",
    "plt.subplot(1,5,4)\n",
    "plt.hist(dmri_demo['dmri_slices_corrected'], bins=100)\n",
    "plt.xlim([0,400])\n",
    "plt.xlabel('dmri_slices_corrected')\n",
    "plt.ylabel('Frequency')\n",
    "plt.title('Outlier slices ')\n",
    "\n",
    "plt.subplot(1,5,5)\n",
    "plt.hist(dmri_demo['discrepancy_dmri_t1'], bins=500)\n",
    "plt.xlim([0,1])\n",
    "plt.xlabel('dMRI dropped slices')\n",
    "plt.ylabel('Frequency')\n",
    "plt.title('Discrepancy dMRI vs.T1 ')\n",
    "\n",
    "fig1.suptitle('Satistics before threshold',fontweight =\"bold\", fontsize = 20.0)\n",
    "\n",
    "fig1.tight_layout(pad = 3)\n",
    "plt.show()\n",
    "\n",
    "fig2 = plt.figure(figsize=(20, 5))\n",
    "\n",
    "plt.subplot(1,5,1)\n",
    "plt.hist(th1_dmri_demo['sex'], bins=3)\n",
    "plt.xlabel('Sex')\n",
    "plt.ylabel('Frequency')\n",
    "plt.title('Sex')\n",
    "\n",
    "plt.subplot(1,5,2)\n",
    "plt.hist(th1_dmri_demo['age'], bins=20)\n",
    "plt.xlabel('Age')\n",
    "plt.ylabel('Frequency')\n",
    "plt.title('Age')\n",
    "\n",
    "plt.subplot(1,5,3)\n",
    "plt.hist(th1_dmri_demo['site'], bins=5)\n",
    "plt.xlabel('Site')\n",
    "plt.ylabel('Frequency')\n",
    "plt.title('Site')\n",
    "\n",
    "plt.subplot(1,5,4)\n",
    "plt.hist(th1_dmri_demo['dmri_slices_corrected'], bins=100)\n",
    "plt.xlim([0,400])\n",
    "plt.xlabel('dmri_slices_corrected')\n",
    "plt.ylabel('Frequency')\n",
    "plt.title('Outlier slices ')\n",
    "\n",
    "plt.subplot(1,5,5)\n",
    "plt.hist(th1_dmri_demo['discrepancy_dmri_t1'], bins=500)\n",
    "plt.xlim([0,1])\n",
    "plt.xlabel('dMRI dropped slices')\n",
    "plt.ylabel('Frequency')\n",
    "plt.title('Discrepancy dMRI vs.T1 ')\n",
    "\n",
    "fig2.suptitle('Satistics after thresholding Discrepancy dMRI vs.T1',fontweight =\"bold\",fontsize = 20.0)\n",
    "\n",
    "fig2.tight_layout(pad = 3)\n",
    "plt.show()\n",
    "\n",
    "fig3 = plt.figure(figsize=(20, 5))\n",
    "\n",
    "plt.subplot(1,5,1)\n",
    "plt.hist(th2_dmri_demo['sex'], bins=3)\n",
    "plt.xlabel('Sex')\n",
    "plt.ylabel('Frequency')\n",
    "plt.title('Sex')\n",
    "\n",
    "plt.subplot(1,5,2)\n",
    "plt.hist(th2_dmri_demo['age'], bins=20)\n",
    "plt.xlabel('Age')\n",
    "plt.ylabel('Frequency')\n",
    "plt.title('Age')\n",
    "\n",
    "plt.subplot(1,5,3)\n",
    "plt.hist(th2_dmri_demo['site'], bins=5)\n",
    "plt.xlabel('Site')\n",
    "plt.ylabel('Frequency')\n",
    "plt.title('Site')\n",
    "\n",
    "plt.subplot(1,5,4)\n",
    "plt.hist(th2_dmri_demo['dmri_slices_corrected'], bins=100)\n",
    "plt.xlim([0,400])\n",
    "plt.xlabel('dmri_slices_corrected')\n",
    "plt.ylabel('Frequency')\n",
    "plt.title('Outlier slices ')\n",
    "\n",
    "plt.subplot(1,5,5)\n",
    "plt.hist(th2_dmri_demo['discrepancy_dmri_t1'], bins=500)\n",
    "plt.xlim([0,1])\n",
    "plt.xlabel('dMRI dropped slices')\n",
    "plt.ylabel('Frequency')\n",
    "plt.title('Discrepancy dMRI vs.T1 ')\n",
    "\n",
    "fig3.suptitle('Satistics after thresholding Outlier slices',fontweight =\"bold\",fontsize = 20.0)\n",
    "\n",
    "fig3.tight_layout(pad = 3)\n",
    "plt.show()"
   ]
  },
  {
   "cell_type": "code",
   "execution_count": 18,
   "metadata": {},
   "outputs": [],
   "source": [
    "#sort participants based on QC values\n",
    "outliers_dmri1 = dmri_demo.sort_values(by ='dmri_slices_corrected' , ascending=False)\n",
    "outliers_dmri2 = dmri_demo.sort_values(by ='discrepancy_dmri_t1' , ascending=False)"
   ]
  },
  {
   "cell_type": "code",
   "execution_count": 27,
   "metadata": {},
   "outputs": [
    {
     "data": {
      "text/plain": [
       "['5498778',\n",
       " '5334612',\n",
       " '1705738',\n",
       " '5005849',\n",
       " '2863028',\n",
       " '6022780',\n",
       " '5306184',\n",
       " '3172421',\n",
       " '1000050',\n",
       " '3721746']"
      ]
     },
     "execution_count": 27,
     "metadata": {},
     "output_type": "execute_result"
    }
   ],
   "source": [
    "#print the ids of the participants with most dmri slices corrected\n",
    "outliers_dmri1.head(n=10).index.tolist()"
   ]
  },
  {
   "cell_type": "code",
   "execution_count": 28,
   "metadata": {},
   "outputs": [
    {
     "data": {
      "text/plain": [
       "['1997959',\n",
       " '2540648',\n",
       " '5901699',\n",
       " '2792426',\n",
       " '5542137',\n",
       " '4075948',\n",
       " '1326726',\n",
       " '5310085',\n",
       " '2307083',\n",
       " '2447692']"
      ]
     },
     "execution_count": 28,
     "metadata": {},
     "output_type": "execute_result"
    }
   ],
   "source": [
    "#print de ids of the participants with worst discrpancy dmri vs t1\n",
    "outliers_dmri2.head(n=10).index.tolist()"
   ]
  },
  {
   "cell_type": "code",
   "execution_count": null,
   "metadata": {},
   "outputs": [],
   "source": []
  }
 ],
 "metadata": {
  "kernelspec": {
   "display_name": "Python 3",
   "language": "python",
   "name": "python3"
  },
  "language_info": {
   "codemirror_mode": {
    "name": "ipython",
    "version": 3
   },
   "file_extension": ".py",
   "mimetype": "text/x-python",
   "name": "python",
   "nbconvert_exporter": "python",
   "pygments_lexer": "ipython3",
   "version": "3.6.2"
  }
 },
 "nbformat": 4,
 "nbformat_minor": 2
}
