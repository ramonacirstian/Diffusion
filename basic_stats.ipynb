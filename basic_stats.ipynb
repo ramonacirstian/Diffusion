{
 "cells": [
  {
   "cell_type": "markdown",
   "metadata": {},
   "source": [
    "## Basic Statistics on UKB dataset"
   ]
  },
  {
   "cell_type": "markdown",
   "metadata": {},
   "source": [
    "Set up global variables and import modules"
   ]
  },
  {
   "cell_type": "code",
   "execution_count": 12,
   "metadata": {},
   "outputs": [],
   "source": [
    "import os\n",
    "import sys\n",
    "import pandas as pd\n",
    "from matplotlib import pyplot as plt\n",
    "from pathlib import Path \n",
    "\n",
    "ukb_root = '/project_freenas/3022017.02/UKB'\n",
    "sys.path.append(os.path.join(ukb_root,'scripts'))\n",
    "from ukb_utils import get_variables_UKB, lookup_UKB\n",
    "\n",
    "ukb_idp_dir = os.path.join(ukb_root,'phenotypes','current')\n",
    "\n",
    "#path for saving results\n",
    "savehere = Path('/Desktop/Diffusion/diffusion_nm')"
   ]
  },
  {
   "cell_type": "markdown",
   "metadata": {},
   "source": [
    "Read dataframe"
   ]
  },
  {
   "cell_type": "code",
   "execution_count": null,
   "metadata": {},
   "outputs": [],
   "source": [
    "basic_demo = pd.read_csv(os.path.join(ukb_idp_dir,'01_basic_demographics.csv'),nrows=1)\n",
    "brain_IDPs = pd.read_csv(os.path.join(ukb_idp_dir,'31_brain_IDPs.csv'),nrows=1)"
   ]
  },
  {
   "cell_type": "markdown",
   "metadata": {},
   "source": [
    "Lookup field IDs with Lookup_UKB function <br>\n",
    "This will to help figure out what fields are present in the dataframe"
   ]
  },
  {
   "cell_type": "code",
   "execution_count": null,
   "metadata": {},
   "outputs": [],
   "source": [
    "def list_field_names(data_frame):\n",
    "  fields_ID = data_frame.columns\n",
    "  field_list = pd.DataFrame(columns=['Field', 'FieldID'])\n",
    "  for idf in fields_ID[1:]:\n",
    "    fld = lookup_UKB(field_ids=[idf]) \n",
    "    field_list = field_list.append(fld)\n",
    "  return field_list"
   ]
  },
  {
   "cell_type": "markdown",
   "metadata": {},
   "source": [
    "Save resulted dataframes for later use"
   ]
  },
  {
   "cell_type": "code",
   "execution_count": 17,
   "metadata": {},
   "outputs": [],
   "source": [
    "#brain_IDPs_fields = list_field_names(brain_IDPs)\n",
    "#brain_IDPs_fields.to_csv('/home/preclineu/ramcir/Desktop/Diffusion/diffusion_nm/brain_IDPs_fields.csv')\n",
    "#basic_demo_fields = list_field_names(basic_demo)\n",
    "#basic_demo_fields.to_csv('/home/preclineu/ramcir/Desktop/Diffusion/diffusion_nm/basic_demo_fields.csv')"
   ]
  },
  {
   "cell_type": "markdown",
   "metadata": {},
   "source": [
    "Turns out some dataframes contain too many fields to be inspected manually.\n",
    "As an alternative, specific metrics (field names) can be looked up on the UK Biobank website and their respective field codes can be used to extract data from the containing dataframe."
   ]
  },
  {
   "cell_type": "code",
   "execution_count": null,
   "metadata": {},
   "outputs": [],
   "source": []
  }
 ],
 "metadata": {
  "kernelspec": {
   "display_name": "Python 3",
   "language": "python",
   "name": "python3"
  },
  "language_info": {
   "codemirror_mode": {
    "name": "ipython",
    "version": 3
   },
   "file_extension": ".py",
   "mimetype": "text/x-python",
   "name": "python",
   "nbconvert_exporter": "python",
   "pygments_lexer": "ipython3",
   "version": "3.6.2"
  }
 },
 "nbformat": 4,
 "nbformat_minor": 2
}
