{
 "cells": [
  {
   "cell_type": "markdown",
   "metadata": {},
   "source": [
    "### Prepare participants for 'quad' analysis by creating missing files "
   ]
  },
  {
   "cell_type": "code",
   "execution_count": 1,
   "metadata": {},
   "outputs": [],
   "source": [
    "import os\n",
    "import sys\n",
    "import pandas as pd\n",
    "import subprocess\n",
    "rootdir = '/home/preclineu/ramcir/Desktop/Diffusion/Subs/1000853/dMRI/dMRI'\n",
    "#os.path.exists(rootdir)"
   ]
  },
  {
   "cell_type": "code",
   "execution_count": 2,
   "metadata": {},
   "outputs": [],
   "source": [
    "def prep_sub(rootdir):\n",
    "    #Create symbolic link for data_ud with the name data\n",
    "    #This is necessary for running 'quad' since all other eddy outputs are called data.eddy.-\n",
    "    data_ud = os.path.join(rootdir, 'data_ud.nii.gz')\n",
    "    data = os.path.join(rootdir, 'data.nii.gz')\n",
    "    if os.path.islink(data) == False:\n",
    "        os.symlink(data_ud, data)\n",
    "    else:\n",
    "        pass\n",
    "\n",
    "    #Write command for creating the b0 mask and run the bash process\n",
    "    fslroi_cmd = 'fslroi data.nii.gz b0_data.nii.gz 0 1'\n",
    "    fslbet_cmd = 'bet b0_data.nii.gz nodif -f 0.1 -g 0 -m -n'\n",
    "    prep_cmd = \"cd \" + rootdir + \" && \" + fslroi_cmd + \" && \" + fslbet_cmd \n",
    "    subprocess.run(prep_cmd, shell = True)\n",
    "\n",
    "    #Create aquision parameters file and index file\n",
    "    #The acquisition parameters file is based on dataset acq documentation\n",
    "    #i.e. AP dir = 0 1 0, PA dir = 0 -1 0, Echo spacing = 0.67 ms, EPI factor = 104 (for UKB)\n",
    "    with open(os.path.join(rootdir,'acqparams.txt'), 'w') as acqparams:\n",
    "        acqparams.write('0 1 0 0.069\\n0 -1 0 0.069')\n",
    "\n",
    "    #The index file indicated the direction in which each volume was aquired (based on aqcparams.txt)\n",
    "    #count number of volumes present in data\n",
    "    with open(os.path.join(rootdir,'bvals'), 'r') as bvals:\n",
    "        data = bvals.read()\n",
    "        vols = data.split()\n",
    "        no_vols = len(vols)\n",
    "    with open(os.path.join(rootdir,'index.txt'), 'w') as index:\n",
    "        for vol in range(1,no_vols):    \n",
    "            index.write('1 ')"
   ]
  },
  {
   "cell_type": "code",
   "execution_count": 3,
   "metadata": {},
   "outputs": [
    {
     "name": "stdout",
     "output_type": "stream",
     "text": [
      "b'Mask created\\n'\n"
     ]
    }
   ],
   "source": [
    "prep_sub(rootdir)"
   ]
  },
  {
   "cell_type": "code",
   "execution_count": null,
   "metadata": {},
   "outputs": [],
   "source": []
  }
 ],
 "metadata": {
  "kernelspec": {
   "display_name": "Python 3",
   "language": "python",
   "name": "python3"
  },
  "language_info": {
   "codemirror_mode": {
    "name": "ipython",
    "version": 3
   },
   "file_extension": ".py",
   "mimetype": "text/x-python",
   "name": "python",
   "nbconvert_exporter": "python",
   "pygments_lexer": "ipython3",
   "version": "3.6.2"
  }
 },
 "nbformat": 4,
 "nbformat_minor": 2
}
