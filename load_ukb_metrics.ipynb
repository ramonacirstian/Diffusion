{
 "cells": [
  {
   "cell_type": "markdown",
   "id": "ebf5417c",
   "metadata": {},
   "source": [
    "first set up global variables and import modules... "
   ]
  },
  {
   "cell_type": "code",
   "execution_count": 27,
   "id": "285cce27",
   "metadata": {},
   "outputs": [],
   "source": [
    "import os\n",
    "import sys\n",
    "import pandas as pd\n",
    "from matplotlib import pyplot as plt\n",
    "\n",
    "ukb_root = '/project_freenas/3022017.02/UKB'\n",
    "sys.path.append(os.path.join(ukb_root,'scripts'))\n",
    "from ukb_utils import get_variables_UKB, lookup_UKB\n",
    "\n",
    "ukb_idp_dir = os.path.join(ukb_root,'phenotypes','current')"
   ]
  },
  {
   "cell_type": "markdown",
   "id": "327aab56",
   "metadata": {},
   "source": [
    "Now we load the dataframes "
   ]
  },
  {
   "cell_type": "code",
   "execution_count": 34,
   "id": "83491b88",
   "metadata": {
    "scrolled": true
   },
   "outputs": [
    {
     "name": "stdout",
     "output_type": "stream",
     "text": [
      "(48991, 3)\n"
     ]
    },
    {
     "data": {
      "text/html": [
       "<div>\n",
       "<style scoped>\n",
       "    .dataframe tbody tr th:only-of-type {\n",
       "        vertical-align: middle;\n",
       "    }\n",
       "\n",
       "    .dataframe tbody tr th {\n",
       "        vertical-align: top;\n",
       "    }\n",
       "\n",
       "    .dataframe thead th {\n",
       "        text-align: right;\n",
       "    }\n",
       "</style>\n",
       "<table border=\"1\" class=\"dataframe\">\n",
       "  <thead>\n",
       "    <tr style=\"text-align: right;\">\n",
       "      <th></th>\n",
       "      <th>sex</th>\n",
       "      <th>site</th>\n",
       "      <th>age</th>\n",
       "    </tr>\n",
       "    <tr>\n",
       "      <th>eid</th>\n",
       "      <th></th>\n",
       "      <th></th>\n",
       "      <th></th>\n",
       "    </tr>\n",
       "  </thead>\n",
       "  <tbody>\n",
       "    <tr>\n",
       "      <th>1000050</th>\n",
       "      <td>0.0</td>\n",
       "      <td>11025.0</td>\n",
       "      <td>70.0</td>\n",
       "    </tr>\n",
       "    <tr>\n",
       "      <th>1000432</th>\n",
       "      <td>1.0</td>\n",
       "      <td>11027.0</td>\n",
       "      <td>70.0</td>\n",
       "    </tr>\n",
       "    <tr>\n",
       "      <th>1000853</th>\n",
       "      <td>0.0</td>\n",
       "      <td>11025.0</td>\n",
       "      <td>73.0</td>\n",
       "    </tr>\n",
       "    <tr>\n",
       "      <th>1000871</th>\n",
       "      <td>1.0</td>\n",
       "      <td>11027.0</td>\n",
       "      <td>73.0</td>\n",
       "    </tr>\n",
       "    <tr>\n",
       "      <th>1000910</th>\n",
       "      <td>0.0</td>\n",
       "      <td>11025.0</td>\n",
       "      <td>69.0</td>\n",
       "    </tr>\n",
       "    <tr>\n",
       "      <th>...</th>\n",
       "      <td>...</td>\n",
       "      <td>...</td>\n",
       "      <td>...</td>\n",
       "    </tr>\n",
       "    <tr>\n",
       "      <th>6024957</th>\n",
       "      <td>1.0</td>\n",
       "      <td>11027.0</td>\n",
       "      <td>65.0</td>\n",
       "    </tr>\n",
       "    <tr>\n",
       "      <th>6025056</th>\n",
       "      <td>1.0</td>\n",
       "      <td>11025.0</td>\n",
       "      <td>71.0</td>\n",
       "    </tr>\n",
       "    <tr>\n",
       "      <th>6025069</th>\n",
       "      <td>1.0</td>\n",
       "      <td>11025.0</td>\n",
       "      <td>72.0</td>\n",
       "    </tr>\n",
       "    <tr>\n",
       "      <th>6025141</th>\n",
       "      <td>0.0</td>\n",
       "      <td>11025.0</td>\n",
       "      <td>57.0</td>\n",
       "    </tr>\n",
       "    <tr>\n",
       "      <th>6025166</th>\n",
       "      <td>1.0</td>\n",
       "      <td>11027.0</td>\n",
       "      <td>78.0</td>\n",
       "    </tr>\n",
       "  </tbody>\n",
       "</table>\n",
       "<p>48991 rows × 3 columns</p>\n",
       "</div>"
      ],
      "text/plain": [
       "         sex     site   age\n",
       "eid                        \n",
       "1000050  0.0  11025.0  70.0\n",
       "1000432  1.0  11027.0  70.0\n",
       "1000853  0.0  11025.0  73.0\n",
       "1000871  1.0  11027.0  73.0\n",
       "1000910  0.0  11025.0  69.0\n",
       "...      ...      ...   ...\n",
       "6024957  1.0  11027.0  65.0\n",
       "6025056  1.0  11025.0  71.0\n",
       "6025069  1.0  11025.0  72.0\n",
       "6025141  0.0  11025.0  57.0\n",
       "6025166  1.0  11027.0  78.0\n",
       "\n",
       "[48991 rows x 3 columns]"
      ]
     },
     "metadata": {},
     "output_type": "display_data"
    }
   ],
   "source": [
    "# we get the sex from basic demographics\n",
    "field_codes = ['eid','31-0.0']\n",
    "field_names = ['eid', 'sex']\n",
    "df_sex, subs = get_variables_UKB(os.path.join(ukb_idp_dir,'01_basic_demographics.csv'), field_codes, field_names)\n",
    "\n",
    "# we load the age from the miscellaneous (because age at enrollment != age at scanning)\n",
    "field_codes = ['eid', '21003-2.0', '54-2.0']\n",
    "field_names = ['eid', 'age', 'site']\n",
    "df_age, subs = get_variables_UKB(os.path.join(ukb_idp_dir,'99_miscellaneous.csv'), field_codes, field_names)\n",
    "\n",
    "# join the dataframes\n",
    "df = df_sex.join(df_age)\n",
    "\n",
    "df.dropna(inplace=True)\n",
    "\n",
    "print(df.shape)\n",
    "display(df)"
   ]
  },
  {
   "cell_type": "markdown",
   "id": "4d295727",
   "metadata": {},
   "source": [
    "We can also look up what different fields are"
   ]
  },
  {
   "cell_type": "code",
   "execution_count": 26,
   "id": "20667350",
   "metadata": {},
   "outputs": [
    {
     "data": {
      "text/html": [
       "<div>\n",
       "<style scoped>\n",
       "    .dataframe tbody tr th:only-of-type {\n",
       "        vertical-align: middle;\n",
       "    }\n",
       "\n",
       "    .dataframe tbody tr th {\n",
       "        vertical-align: top;\n",
       "    }\n",
       "\n",
       "    .dataframe thead th {\n",
       "        text-align: right;\n",
       "    }\n",
       "</style>\n",
       "<table border=\"1\" class=\"dataframe\">\n",
       "  <thead>\n",
       "    <tr style=\"text-align: right;\">\n",
       "      <th></th>\n",
       "      <th>Field</th>\n",
       "      <th>FieldID</th>\n",
       "    </tr>\n",
       "  </thead>\n",
       "  <tbody>\n",
       "    <tr>\n",
       "      <th>2729</th>\n",
       "      <td>Number of dMRI outlier slices detected and cor...</td>\n",
       "      <td>25746</td>\n",
       "    </tr>\n",
       "    <tr>\n",
       "      <th>2720</th>\n",
       "      <td>Discrepancy between dMRI brain image and T1 br...</td>\n",
       "      <td>25737</td>\n",
       "    </tr>\n",
       "  </tbody>\n",
       "</table>\n",
       "</div>"
      ],
      "text/plain": [
       "                                                  Field FieldID\n",
       "2729  Number of dMRI outlier slices detected and cor...   25746\n",
       "2720  Discrepancy between dMRI brain image and T1 br...   25737"
      ]
     },
     "execution_count": 26,
     "metadata": {},
     "output_type": "execute_result"
    }
   ],
   "source": [
    "lookup_UKB(field_ids=['25746-2.0', '25737-2.0'])"
   ]
  },
  {
   "cell_type": "markdown",
   "id": "5c959b99",
   "metadata": {},
   "source": [
    "Now load the dmri measures... "
   ]
  },
  {
   "cell_type": "code",
   "execution_count": 28,
   "id": "3940f412",
   "metadata": {},
   "outputs": [
    {
     "data": {
      "text/html": [
       "<div>\n",
       "<style scoped>\n",
       "    .dataframe tbody tr th:only-of-type {\n",
       "        vertical-align: middle;\n",
       "    }\n",
       "\n",
       "    .dataframe tbody tr th {\n",
       "        vertical-align: top;\n",
       "    }\n",
       "\n",
       "    .dataframe thead th {\n",
       "        text-align: right;\n",
       "    }\n",
       "</style>\n",
       "<table border=\"1\" class=\"dataframe\">\n",
       "  <thead>\n",
       "    <tr style=\"text-align: right;\">\n",
       "      <th></th>\n",
       "      <th>dmri_dropped_slices</th>\n",
       "    </tr>\n",
       "    <tr>\n",
       "      <th>eid</th>\n",
       "      <th></th>\n",
       "    </tr>\n",
       "  </thead>\n",
       "  <tbody>\n",
       "    <tr>\n",
       "      <th>1000050</th>\n",
       "      <td>394.0</td>\n",
       "    </tr>\n",
       "    <tr>\n",
       "      <th>1000432</th>\n",
       "      <td>147.0</td>\n",
       "    </tr>\n",
       "    <tr>\n",
       "      <th>1000853</th>\n",
       "      <td>31.0</td>\n",
       "    </tr>\n",
       "    <tr>\n",
       "      <th>1000871</th>\n",
       "      <td>44.0</td>\n",
       "    </tr>\n",
       "    <tr>\n",
       "      <th>1000910</th>\n",
       "      <td>32.0</td>\n",
       "    </tr>\n",
       "    <tr>\n",
       "      <th>...</th>\n",
       "      <td>...</td>\n",
       "    </tr>\n",
       "    <tr>\n",
       "      <th>6024836</th>\n",
       "      <td>18.0</td>\n",
       "    </tr>\n",
       "    <tr>\n",
       "      <th>6024902</th>\n",
       "      <td>52.0</td>\n",
       "    </tr>\n",
       "    <tr>\n",
       "      <th>6025056</th>\n",
       "      <td>36.0</td>\n",
       "    </tr>\n",
       "    <tr>\n",
       "      <th>6025069</th>\n",
       "      <td>40.0</td>\n",
       "    </tr>\n",
       "    <tr>\n",
       "      <th>6025141</th>\n",
       "      <td>39.0</td>\n",
       "    </tr>\n",
       "  </tbody>\n",
       "</table>\n",
       "<p>40527 rows × 1 columns</p>\n",
       "</div>"
      ],
      "text/plain": [
       "         dmri_dropped_slices\n",
       "eid                         \n",
       "1000050                394.0\n",
       "1000432                147.0\n",
       "1000853                 31.0\n",
       "1000871                 44.0\n",
       "1000910                 32.0\n",
       "...                      ...\n",
       "6024836                 18.0\n",
       "6024902                 52.0\n",
       "6025056                 36.0\n",
       "6025069                 40.0\n",
       "6025141                 39.0\n",
       "\n",
       "[40527 rows x 1 columns]"
      ]
     },
     "metadata": {},
     "output_type": "display_data"
    }
   ],
   "source": [
    "df_dmri, subs = get_variables_UKB(os.path.join(ukb_idp_dir,'31_brain_IDPs.csv'), ['25746-2.0'], ['dmri_dropped_slices'])\n",
    "display(df_dmri)"
   ]
  },
  {
   "cell_type": "code",
   "execution_count": null,
   "id": "f55411fb",
   "metadata": {},
   "outputs": [],
   "source": []
  },
  {
   "cell_type": "code",
   "execution_count": 33,
   "id": "02555f43",
   "metadata": {
    "scrolled": true
   },
   "outputs": [
    {
     "data": {
      "image/png": "[encoded data removed]",
      "text/plain": [
       "<Figure size 432x288 with 1 Axes>"
      ]
     },
     "metadata": {
      "needs_background": "light"
     },
     "output_type": "display_data"
    }
   ],
   "source": [
    "ax = plt.hist(df_dmri['dmri_dropped_slices'], bins =100)"
   ]
  },
  {
   "cell_type": "code",
   "execution_count": null,
   "id": "7a727100",
   "metadata": {},
   "outputs": [],
   "source": []
  }
 ],
 "metadata": {
  "kernelspec": {
   "display_name": "Python 3 (ipykernel)",
   "language": "python",
   "name": "python3"
  },
  "language_info": {
   "codemirror_mode": {
    "name": "ipython",
    "version": 3
   },
   "file_extension": ".py",
   "mimetype": "text/x-python",
   "name": "python",
   "nbconvert_exporter": "python",
   "pygments_lexer": "ipython3",
   "version": "3.8.5"
  }
 },
 "nbformat": 4,
 "nbformat_minor": 5
}
