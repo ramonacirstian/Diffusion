{
 "cells": [
  {
   "cell_type": "markdown",
   "metadata": {},
   "source": [
    "## Preparation and QC of UKB participants"
   ]
  },
  {
   "cell_type": "code",
   "execution_count": 247,
   "metadata": {},
   "outputs": [],
   "source": [
    "import os\n",
    "import sys\n",
    "import pandas as pd\n",
    "import subprocess\n",
    "import numpy as np\n",
    "rootdir = '/home/preclineu/ramcir/Desktop/Diffusion/Subs'\n",
    "#os.path.exists(rootdir)"
   ]
  },
  {
   "cell_type": "code",
   "execution_count": 297,
   "metadata": {},
   "outputs": [],
   "source": [
    "def prep_sub(rootdir, id_sub):\n",
    "    subdir = os.path.join(rootdir, id_sub, 'dMRI', 'dMRI')\n",
    "    mask_dir = os.path.join(rootdir, id_sub, 'dMRI', 'dMRI', 'nodif_mask.nii.gz')\n",
    "    acqparam_file = os.path.join(rootdir, id_sub, 'dMRI', 'dMRI', 'acqparam.txt')\n",
    "    idx_file = os.path.join(rootdir, id_sub, 'dMRI', 'dMRI', 'index.txt')\n",
    "    \n",
    "    #Create symbolic link for data_ud with the name data\n",
    "    #This is necessary for running 'quad' since all other eddy outputs are called data.eddy.-\n",
    "    data_ud = os.path.join(subdir, 'data_ud.nii.gz')\n",
    "    data = os.path.join(subdir, 'data.nii.gz')\n",
    "    \n",
    "    if os.path.islink(data) == False:\n",
    "        os.symlink(data_ud, data)\n",
    "    else:\n",
    "        pass\n",
    "\n",
    "    #Write command for creating the b0 mask and run the bash process\n",
    "    if os.path.exists(mask_dir) == False:\n",
    "        fslroi_cmd = 'fslroi data.nii.gz b0_data.nii.gz 0 1'\n",
    "        fslbet_cmd = 'bet b0_data.nii.gz nodif -f 0.1 -g 0 -m -n'\n",
    "        prep_cmd = \"cd \" + subdir + \" && \" + fslroi_cmd + \" && \" + fslbet_cmd \n",
    "        subprocess.run(prep_cmd, shell = True)\n",
    "    else:\n",
    "        pass\n",
    "\n",
    "    #Create aquision parameters file and index file\n",
    "    #The acquisition parameters file is based on dataset acq documentation\n",
    "    #i.e. AP dir = 0 1 0, PA dir = 0 -1 0, Echo spacing = 0.67 ms, EPI factor = 104 (for UKB)\n",
    "    if os.path.exists(acqparam_file) == False:\n",
    "        with open(os.path.join(subdir,'acqparams.txt'), 'w') as acqparams:\n",
    "            acqparams.write('0 1 0 0.069\\n0 -1 0 0.069')\n",
    "    else:\n",
    "        pass\n",
    "\n",
    "    #The index file indicated the direction in which each volume was aquired (based on aqcparams.txt)\n",
    "    #count number of volumes present in data\n",
    "    if os.path.exists(idx_file) == False:\n",
    "        with open(os.path.join(subdir,'bvals'), 'r') as bvals:\n",
    "            data = bvals.read()\n",
    "            vols = data.split()\n",
    "            no_vols = len(vols)\n",
    "        with open(os.path.join(subdir,'index.txt'), 'w') as index:\n",
    "            for vol in range(0,no_vols):    \n",
    "                index.write('1 ')\n",
    "    else:\n",
    "        pass"
   ]
  },
  {
   "cell_type": "code",
   "execution_count": 298,
   "metadata": {},
   "outputs": [],
   "source": [
    "def quad_sub(rootdir, id_sub, quad_folders):  \n",
    "    subdir = os.path.join(rootdir, id_sub, 'dMRI', 'dMRI')\n",
    "    qc_dir = os.path.join(subdir,'data.qc') \n",
    "    \n",
    "    #check to see if quad has already been run\n",
    "    if os.path.exists(qc_dir) == False:        \n",
    "        #compose and run quad command\n",
    "        quad_cmd = 'eddy_quad data  -idx index.txt -par acqparams.txt -m nodif_mask -b bvals -g bvecs'\n",
    "        prep_cmd = \"cd \" + subdir + \" && \" + quad_cmd\n",
    "        process = subprocess.run(prep_cmd, shell = True, stdout=subprocess.PIPE, stderr=subprocess.PIPE)        \n",
    "    else:\n",
    "        print('QUAD already exists')     "
   ]
  },
  {
   "cell_type": "markdown",
   "metadata": {},
   "source": [
    "### Run QUAD on multiple participants"
   ]
  },
  {
   "cell_type": "code",
   "execution_count": null,
   "metadata": {},
   "outputs": [],
   "source": [
    "# Read the sorted participants dataframe, extract the ready column \n",
    "# then covert sub IDs into strings and remove nans\n",
    "ready_subs = pd.read_csv(os.path.join(rootdir,'sorted_subs.csv'), usecols = ['ready'])\n",
    "ready_subs = ready_subs['ready'].apply(lambda sub: sub if pd.isnull(sub) else str(int(sub))).tolist()\n",
    "ready_subs = [sub for sub in ready_subs if str(sub) != 'nan']\n",
    "\n",
    "# Apply prep and quad functions to all particpants in the ready list\n",
    "for id_sub in ready_subs:\n",
    "    print('Participant ',id_sub, 'is being processed')\n",
    "    print('Preparing files')\n",
    "    prep_sub(rootdir, id_sub)\n",
    "    print('Running QUAD')\n",
    "    quad_sub(rootdir, id_sub, quad_folders) \n",
    "        \n",
    "print('Finished processing QUAD.')  "
   ]
  },
  {
   "cell_type": "code",
   "execution_count": 300,
   "metadata": {},
   "outputs": [],
   "source": [
    "#create file to store the paths to the quad folder of each participant\n",
    "with open(os.path.join(rootdir,'quad_folders.txt'), 'w') as quad_folders:\n",
    "    for id_sub in ready_subs:\n",
    "        subdir = os.path.join(rootdir, id_sub, 'dMRI', 'dMRI')\n",
    "        qc_dir = os.path.join(subdir,'data.qc')\n",
    "        if os.path.exists(qc_dir) == True:       \n",
    "             quad_folders.writelines(qc_dir + '\\n')"
   ]
  },
  {
   "cell_type": "code",
   "execution_count": 323,
   "metadata": {},
   "outputs": [],
   "source": [
    "def squad_sub(rootdir):    \n",
    "    if os.path.exists(qc_dir) == True:\n",
    "        squad_cmd = 'eddy_squad'\n",
    "        quad_folders = os.path.join(rootdir,'quad_folders.txt')\n",
    "        prep_cmd = \"cd \" + rootdir + \" && \" + squad_cmd + ' ' + quad_folders\n",
    "        print(prep_cmd)\n",
    "        process = subprocess.run(prep_cmd, shell = True, stdout=subprocess.PIPE, stderr=subprocess.PIPE)\n",
    "#         out, err = process.communicate()\n",
    "#         print(out)\n",
    "#         print(err)\n",
    "    else:\n",
    "        print('QUAD folder not there')"
   ]
  },
  {
   "cell_type": "code",
   "execution_count": 324,
   "metadata": {},
   "outputs": [
    {
     "name": "stdout",
     "output_type": "stream",
     "text": [
      "cd /home/preclineu/ramcir/Desktop/Diffusion/Subs && eddy_squad /home/preclineu/ramcir/Desktop/Diffusion/Subs/quad_folders.txt\n"
     ]
    }
   ],
   "source": [
    "squad_sub(rootdir)"
   ]
  },
  {
   "cell_type": "code",
   "execution_count": null,
   "metadata": {},
   "outputs": [],
   "source": []
  }
 ],
 "metadata": {
  "kernelspec": {
   "display_name": "Python 3",
   "language": "python",
   "name": "python3"
  },
  "language_info": {
   "codemirror_mode": {
    "name": "ipython",
    "version": 3
   },
   "file_extension": ".py",
   "mimetype": "text/x-python",
   "name": "python",
   "nbconvert_exporter": "python",
   "pygments_lexer": "ipython3",
   "version": "3.6.2"
  }
 },
 "nbformat": 4,
 "nbformat_minor": 2
}
