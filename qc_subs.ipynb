{
 "cells": [
  {
   "cell_type": "markdown",
   "metadata": {},
   "source": [
    "## Preparation and QC of UKB participants"
   ]
  },
  {
   "cell_type": "code",
   "execution_count": 234,
   "metadata": {},
   "outputs": [],
   "source": [
    "import os\n",
    "import sys\n",
    "import pandas as pd\n",
    "import subprocess\n",
    "import numpy as np\n",
    "rootdir = '/home/preclineu/ramcir/Desktop/Diffusion/Subs'\n",
    "#os.path.exists(rootdir)"
   ]
  },
  {
   "cell_type": "code",
   "execution_count": 235,
   "metadata": {},
   "outputs": [],
   "source": [
    "def prep_sub(rootdir, id_sub):\n",
    "    subdir = os.path.join(rootdir, id_sub, 'dMRI', 'dMRI')\n",
    "    #Create symbolic link for data_ud with the name data\n",
    "    #This is necessary for running 'quad' since all other eddy outputs are called data.eddy.-\n",
    "    data_ud = os.path.join(subdir, 'data_ud.nii.gz')\n",
    "    data = os.path.join(subdir, 'data.nii.gz')\n",
    "    if os.path.islink(data) == False:\n",
    "        os.symlink(data_ud, data)\n",
    "    else:\n",
    "        pass\n",
    "\n",
    "    #Write command for creating the b0 mask and run the bash process\n",
    "    fslroi_cmd = 'fslroi data.nii.gz b0_data.nii.gz 0 1'\n",
    "    fslbet_cmd = 'bet b0_data.nii.gz nodif -f 0.1 -g 0 -m -n'\n",
    "    prep_cmd = \"cd \" + subdir + \" && \" + fslroi_cmd + \" && \" + fslbet_cmd \n",
    "    subprocess.run(prep_cmd, shell = True)\n",
    "\n",
    "    #Create aquision parameters file and index file\n",
    "    #The acquisition parameters file is based on dataset acq documentation\n",
    "    #i.e. AP dir = 0 1 0, PA dir = 0 -1 0, Echo spacing = 0.67 ms, EPI factor = 104 (for UKB)\n",
    "    with open(os.path.join(subdir,'acqparams.txt'), 'w') as acqparams:\n",
    "        acqparams.write('0 1 0 0.069\\n0 -1 0 0.069')\n",
    "\n",
    "    #The index file indicated the direction in which each volume was aquired (based on aqcparams.txt)\n",
    "    #count number of volumes present in data\n",
    "    with open(os.path.join(subdir,'bvals'), 'r') as bvals:\n",
    "        data = bvals.read()\n",
    "        vols = data.split()\n",
    "        no_vols = len(vols)\n",
    "    with open(os.path.join(subdir,'index.txt'), 'w') as index:\n",
    "        for vol in range(0,no_vols):    \n",
    "            index.write('1 ')\n",
    "        "
   ]
  },
  {
   "cell_type": "code",
   "execution_count": 236,
   "metadata": {},
   "outputs": [],
   "source": [
    "def quad_sub(rootdir, id_sub):  \n",
    "    subdir = os.path.join(rootdir, id_sub, 'dMRI', 'dMRI')\n",
    "    qc_dir = os.path.join(subdir,'data.qc') \n",
    "    #check to see if quad has already been run\n",
    "    if os.path.exists(qc_dir) == False:\n",
    "        #compose and run quad command\n",
    "        quad_cmd = 'eddy_quad data  -idx index.txt -par acqparams.txt -m nodif_mask -b bvals -g bvecs'\n",
    "        prep_cmd = \"cd \" + subdir + \" && \" + quad_cmd\n",
    "        process = subprocess.run(prep_cmd, shell = True, stdout=subprocess.PIPE, stderr=subprocess.PIPE)\n",
    "        #save the quad folder's path to a txt file, this will be needed for squad\n",
    "        with open(os.path.join(rootdir,'quad_folders.txt'), 'w') as quad_folders:\n",
    "            quad_folders.write(qc_dir)\n",
    "    else:\n",
    "        print('QUAD already exists')     "
   ]
  },
  {
   "cell_type": "markdown",
   "metadata": {},
   "source": [
    "### Run QUAD on multiple participants"
   ]
  },
  {
   "cell_type": "code",
   "execution_count": null,
   "metadata": {},
   "outputs": [],
   "source": [
    "ready_subs = pd.read_csv(os.path.join(rootdir,'sorted_subs.csv'), usecols = ['ready'])\n",
    "ready_subs = ready_subs['ready'].apply(lambda x: x if pd.isnull(x) else str(int(x))).tolist()\n",
    "ready_subs = [sub for sub in ready_subs if str(sub) != 'nan']\n",
    "\n",
    "for id_sub in ready_subs:\n",
    "    print('Participant ',id_sub, 'is being processed')\n",
    "    print('Preparing files')\n",
    "    prep_sub(rootdir, id_sub)\n",
    "    print('Running QUAD')\n",
    "    quad_sub(rootdir, id_sub) \n",
    "        \n",
    "print('Finished processing QUAD!')\n",
    "    "
   ]
  },
  {
   "cell_type": "code",
   "execution_count": null,
   "metadata": {},
   "outputs": [],
   "source": [
    "def quad_sub(rootdir):    \n",
    "    if os.path.exists(qc_dir) == True:\n",
    "        squad_cmd = 'eddy_squad'\n",
    "        quad_folders = rootdir + 'quad_folders.txt'\n",
    "        prep_cmd = \"cd \" + rootdir + \" && \" + quad_cmd + \" && \" + quad_folders\n",
    "        process = subprocess.run(prep_cmd, shell = True, stdout=subprocess.PIPE, stderr=subprocess.PIPE)\n",
    "    else:\n",
    "        print('QUAD folder not there')"
   ]
  }
 ],
 "metadata": {
  "kernelspec": {
   "display_name": "Python 3",
   "language": "python",
   "name": "python3"
  },
  "language_info": {
   "codemirror_mode": {
    "name": "ipython",
    "version": 3
   },
   "file_extension": ".py",
   "mimetype": "text/x-python",
   "name": "python",
   "nbconvert_exporter": "python",
   "pygments_lexer": "ipython3",
   "version": "3.6.2"
  }
 },
 "nbformat": 4,
 "nbformat_minor": 2
}
