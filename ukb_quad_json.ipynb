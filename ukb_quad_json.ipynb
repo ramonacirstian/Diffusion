{
 "cells": [
  {
   "cell_type": "markdown",
   "metadata": {},
   "source": [
    "### QUAD metrics extraction"
   ]
  },
  {
   "cell_type": "markdown",
   "metadata": {},
   "source": [
    "### Globals"
   ]
  },
  {
   "cell_type": "code",
   "execution_count": 1,
   "metadata": {},
   "outputs": [],
   "source": [
    "import os\n",
    "import glob\n",
    "import subprocess\n",
    "import sys\n",
    "import json\n",
    "import pandas as pd\n",
    "from pandas.io.json import json_normalize\n",
    "\n",
    "rootdir = '/project_freenas/3022017.02/UKB'\n",
    "qcdir = os.path.join(rootdir, 'qc', 'dMRI')\n",
    "jsondir = '/home/preclineu/ramcir/Desktop/Diffusion/subjects/1000853/dMRI/dMRI/data.qc'"
   ]
  },
  {
   "cell_type": "code",
   "execution_count": 129,
   "metadata": {},
   "outputs": [
    {
     "data": {
      "text/html": [
       "<div>\n",
       "<style scoped>\n",
       "    .dataframe tbody tr th:only-of-type {\n",
       "        vertical-align: middle;\n",
       "    }\n",
       "\n",
       "    .dataframe tbody tr th {\n",
       "        vertical-align: top;\n",
       "    }\n",
       "\n",
       "    .dataframe thead th {\n",
       "        text-align: right;\n",
       "    }\n",
       "</style>\n",
       "<table border=\"1\" class=\"dataframe\">\n",
       "  <thead>\n",
       "    <tr style=\"text-align: right;\">\n",
       "      <th></th>\n",
       "      <th>Avg x tr</th>\n",
       "      <th>Avg y tr</th>\n",
       "      <th>Avg z tr</th>\n",
       "      <th>Avg x rot</th>\n",
       "      <th>Avg y rot</th>\n",
       "      <th>Avg z rot</th>\n",
       "      <th>Std EC x</th>\n",
       "      <th>Std EC y</th>\n",
       "      <th>Std EC z</th>\n",
       "      <th>Outliers b = 1000</th>\n",
       "      <th>Outliers b = 1997</th>\n",
       "      <th>Outliers PE dir (0, 1, 0)</th>\n",
       "      <th>Avg abs motion</th>\n",
       "      <th>Avg rel motion</th>\n",
       "      <th>Total outliers</th>\n",
       "    </tr>\n",
       "  </thead>\n",
       "  <tbody>\n",
       "    <tr>\n",
       "      <th>1000853</th>\n",
       "      <td>0.017003</td>\n",
       "      <td>-0.585111</td>\n",
       "      <td>-0.34155</td>\n",
       "      <td>0.014469</td>\n",
       "      <td>0.00039</td>\n",
       "      <td>0.000271</td>\n",
       "      <td>0.076919</td>\n",
       "      <td>0.100986</td>\n",
       "      <td>0.252164</td>\n",
       "      <td>0.75</td>\n",
       "      <td>0.111111</td>\n",
       "      <td>0.410053</td>\n",
       "      <td>2.21</td>\n",
       "      <td>2.21</td>\n",
       "      <td>0.430556</td>\n",
       "    </tr>\n",
       "  </tbody>\n",
       "</table>\n",
       "</div>"
      ],
      "text/plain": [
       "         Avg x tr  Avg y tr Avg z tr Avg x rot Avg y rot Avg z rot Std EC x   \\\n",
       "1000853  0.017003 -0.585111 -0.34155  0.014469   0.00039  0.000271  0.076919   \n",
       "\n",
       "         Std EC y  Std EC z Outliers b = 1000 Outliers b = 1997  \\\n",
       "1000853  0.100986  0.252164              0.75          0.111111   \n",
       "\n",
       "        Outliers PE dir (0, 1, 0)  Avg abs motion  Avg rel motion  \\\n",
       "1000853                  0.410053            2.21            2.21   \n",
       "\n",
       "         Total outliers  \n",
       "1000853        0.430556  "
      ]
     },
     "metadata": {},
     "output_type": "display_data"
    }
   ],
   "source": [
    "jsonfile = os.path.join(jsondir, 'qc.json')\n",
    "\n",
    "with open(jsonfile, 'r') as f:\n",
    "    data = json.loads(f.read())\n",
    "df1 = pd.json_normalize(data, record_path = ['qc_params_avg'], meta = ['qc_mot_abs', 'qc_mot_rel', 'qc_outliers_tot'  ])\n",
    "df2 = pd.json_normalize(data, record_path = ['qc_outliers_b'])\n",
    "df3 = pd.json_normalize(data, record_path = ['qc_outliers_pe'])\n",
    "df_frames = [df1, df2, df3]\n",
    "df_fin = pd.concat(df_frames)\n",
    "qc_mot_abs = df_fin.iloc[0,1]\n",
    "qc_mot_rel = df_fin.iloc[0,2]\n",
    "qc_outliers_tot = df_fin.iloc[0,3]\n",
    "df_fin = df_fin.transpose()\n",
    "df_fin = df_fin.drop(index= ['qc_mot_abs', 'qc_mot_rel', 'qc_outliers_tot'])\n",
    "df_fin['qc_mot_abs'], df_fin['qc_mot_rel'], df_fin['qc_outliers_tot'] = [qc_mot_abs, qc_mot_rel, qc_outliers_tot] \n",
    "df_fin.columns = ['Avg x tr','Avg y tr','Avg z tr','Avg x rot','Avg y rot','Avg z rot','Std EC x ','Std EC y','Std EC z', 'Outliers b = 1000','Outliers b = 1997', 'Outliers PE dir (0, 1, 0)','Avg abs motion','Avg rel motion','Total outliers']\n",
    "df_fin.index = ['1000853']\n",
    "display(df_fin)\n"
   ]
  },
  {
   "cell_type": "code",
   "execution_count": null,
   "metadata": {},
   "outputs": [],
   "source": []
  }
 ],
 "metadata": {
  "kernelspec": {
   "display_name": "myenv",
   "language": "python",
   "name": "myenv"
  },
  "language_info": {
   "codemirror_mode": {
    "name": "ipython",
    "version": 3
   },
   "file_extension": ".py",
   "mimetype": "text/x-python",
   "name": "python",
   "nbconvert_exporter": "python",
   "pygments_lexer": "ipython3",
   "version": "3.8.12"
  }
 },
 "nbformat": 4,
 "nbformat_minor": 2
}
