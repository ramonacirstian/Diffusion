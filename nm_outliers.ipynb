{
 "cells": [
  {
   "cell_type": "markdown",
   "metadata": {},
   "source": [
    "### Extracting outliers from UKB dMRI parameters"
   ]
  },
  {
   "cell_type": "code",
   "execution_count": 43,
   "metadata": {},
   "outputs": [],
   "source": [
    "%matplotlib inline\n",
    "import os\n",
    "import sys\n",
    "import csv\n",
    "import pickle\n",
    "import seaborn as sns\n",
    "import numpy as np\n",
    "import pandas as pd\n",
    "from matplotlib import pyplot as plt\n",
    "import matplotlib.colors\n",
    "\n",
    "ukb_root = '/project_freenas/3022017.02/UKB'\n",
    "sys.path.append(os.path.join(ukb_root,'scripts'))\n",
    "from ukb_utils import get_variables_UKB, lookup_UKB\n",
    "ukb_idp_dir = os.path.join(ukb_root,'phenotypes','current')"
   ]
  },
  {
   "cell_type": "markdown",
   "metadata": {},
   "source": [
    "### Load Data"
   ]
  },
  {
   "cell_type": "code",
   "execution_count": 2,
   "metadata": {},
   "outputs": [],
   "source": [
    "### Read dMRI data of available participants\n",
    "train_data = '/home/preclineu/ramcir/Desktop/Diffusion/diffusion_nm/df_tr.pkl'\n",
    "test_data = '/home/preclineu/ramcir/Desktop/Diffusion/diffusion_nm/df_te.pkl'\n",
    "with open(train_data, 'rb') as f: \n",
    "    data_train = pickle.load(f)\n",
    "    data_train = data_train.astype('float64')\n",
    "with open(test_data, 'rb') as f: \n",
    "    data_test = pickle.load(f)\n",
    "    data_test = data_test.astype('float64')    \n",
    "data = pd.concat([data_train,data_test])  \n",
    "\n",
    "# Read Z-scores of available participants\n",
    "z_path_train = '/home/preclineu/ramcir/Desktop/Diffusion/diffusion_nm/braincharts/models/test/Mean_ICVF_in_body_of_corpus_callosum_on_FA_skeleton/Z_training.txt'\n",
    "z_path_test = '/home/preclineu/ramcir/Desktop/Diffusion/diffusion_nm/braincharts/models/test/Mean_ICVF_in_body_of_corpus_callosum_on_FA_skeleton/Z_estimate.txt'\n",
    "data_train = [float(number)\n",
    "        for line in open(z_path_train, 'r')\n",
    "        for number in line.split()]\n",
    "data_test = [float(number)\n",
    "        for line in open(z_path_test, 'r')\n",
    "        for number in line.split()]\n",
    "z_scores_train = pd.DataFrame(data_train, columns =['z_scores'])\n",
    "z_scores_test = pd.DataFrame(data_test, columns =['z_scores'])\n",
    "z_scores = pd.concat([z_scores_train,z_scores_test])  \n",
    "\n",
    "# Assign the right participant ID to the right z-score\n",
    "z_scores.index = data.index"
   ]
  },
  {
   "cell_type": "code",
   "execution_count": 17,
   "metadata": {},
   "outputs": [
    {
     "data": {
      "image/png": "[encoded data removed]",
      "text/plain": [
       "<Figure size 432x288 with 1 Axes>"
      ]
     },
     "metadata": {
      "needs_background": "light"
     },
     "output_type": "display_data"
    }
   ],
   "source": [
    "# Plot z-scores histogram\n",
    "plt.hist(z_scores['z_scores'],bins=500)\n",
    "plt.show()"
   ]
  },
  {
   "cell_type": "markdown",
   "metadata": {},
   "source": [
    "### Select outliers"
   ]
  },
  {
   "cell_type": "code",
   "execution_count": 49,
   "metadata": {},
   "outputs": [
    {
     "name": "stdout",
     "output_type": "stream",
     "text": [
      "26 outliers for threshold z = 5\n"
     ]
    }
   ],
   "source": [
    "# threshold z-values \n",
    "threshold = 5\n",
    "th_z_scores = z_scores.copy(deep=True)\n",
    "th_z_scores = z_scores.mask(z_scores<threshold)\n",
    "th_z_scores.dropna(inplace=True)\n",
    "print(len(th_z_scores), 'outliers for threshold z =', threshold)\n",
    "\n",
    "# save subs id list\n",
    "th_subs = th_z_scores.index\n",
    "save_path = '/home/preclineu/ramcir/Desktop/Diffusion/diffusion_nm/th5_zscores_ICVFcorpus.npy'\n",
    "np.save(save_path, th_subs)"
   ]
  },
  {
   "cell_type": "code",
   "execution_count": 30,
   "metadata": {},
   "outputs": [
    {
     "data": {
      "image/png": "[encoded data removed]",
      "text/plain": [
       "<Figure size 432x288 with 1 Axes>"
      ]
     },
     "metadata": {
      "needs_background": "light"
     },
     "output_type": "display_data"
    }
   ],
   "source": [
    "plt.hist(th_z_scores['z_scores'],bins=500)\n",
    "plt.show()"
   ]
  },
  {
   "cell_type": "code",
   "execution_count": null,
   "metadata": {},
   "outputs": [],
   "source": []
  },
  {
   "cell_type": "code",
   "execution_count": null,
   "metadata": {},
   "outputs": [],
   "source": []
  }
 ],
 "metadata": {
  "kernelspec": {
   "display_name": "myenv",
   "language": "python",
   "name": "myenv"
  },
  "language_info": {
   "codemirror_mode": {
    "name": "ipython",
    "version": 3
   },
   "file_extension": ".py",
   "mimetype": "text/x-python",
   "name": "python",
   "nbconvert_exporter": "python",
   "pygments_lexer": "ipython3",
   "version": "3.8.12"
  }
 },
 "nbformat": 4,
 "nbformat_minor": 2
}
