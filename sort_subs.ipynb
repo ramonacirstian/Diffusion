{
 "cells": [
  {
   "cell_type": "markdown",
   "metadata": {},
   "source": [
    "##### Sort participants who have dMRI data available"
   ]
  },
  {
   "cell_type": "code",
   "execution_count": 131,
   "metadata": {},
   "outputs": [],
   "source": [
    "import os\n",
    "import sys\n",
    "import pandas as pd\n",
    "from matplotlib import pyplot as plt\n",
    "\n",
    "rootdir = '/home/preclineu/ramcir/Desktop/Diffusion/Subs'\n",
    "missing = pd.DataFrame(columns = ['missing_dMRI', 'missing_eddy'])\n",
    "ready = pd.DataFrame(columns = ['ready'])\n",
    "\n",
    "for dir in os.listdir(rootdir):\n",
    "    #print(dir)\n",
    "    #Check to see whether the directory dMRI and eddy files are present in the participant folder\n",
    "    subdir = os.path.exists(os.path.join(rootdir, dir, 'dMRI', 'dMRI'))\n",
    "    qcdir = os.path.exists(os.path.join(rootdir, dir, 'dMRI', 'dMRI', 'data.qc'))\n",
    "    eddyfile = os.path.exists(os.path.join(rootdir, dir, 'dMRI', 'dMRI', 'data.eddy_parameters'))\n",
    "    if subdir == True and dir.isdigit() == True: \n",
    "        # check if directory is a participant folder and it contains dMRI data\n",
    "        if qcdir == True: \n",
    "            #check to see if 'quad' has already been run, if yes, then skip\n",
    "            pass\n",
    "        elif qcdir == False and eddyfile == True: \n",
    "            #check to see if the eddy files are present\n",
    "            ready = ready.append({'ready':dir}, ignore_index=True)\n",
    "        elif qcdir == False and eddyfile == False: \n",
    "            #if eddy files are not present, add participant id to missing_eddy list\n",
    "            missing = missing.append({'missing_eddy':dir}, ignore_index=True)\n",
    "    elif subdir == False and dir.isdigit() == True: \n",
    "        # if participant doesn't have dMRI, add to missing_dMRI list\n",
    "        missing = missing.append({'missing_dMRI':dir}, ignore_index=True)\n",
    "    else:\n",
    "        pass\n",
    "        #print('This is not a participant')\n",
    "        \n",
    "missing.to_csv(os.path.join(rootdir, 'missing.csv'))        \n",
    "ready.to_csv(os.path.join(rootdir, 'ready.csv'))         "
   ]
  },
  {
   "cell_type": "code",
   "execution_count": null,
   "metadata": {},
   "outputs": [],
   "source": []
  }
 ],
 "metadata": {
  "kernelspec": {
   "display_name": "Python 3",
   "language": "python",
   "name": "python3"
  },
  "language_info": {
   "codemirror_mode": {
    "name": "ipython",
    "version": 3
   },
   "file_extension": ".py",
   "mimetype": "text/x-python",
   "name": "python",
   "nbconvert_exporter": "python",
   "pygments_lexer": "ipython3",
   "version": "3.6.2"
  }
 },
 "nbformat": 4,
 "nbformat_minor": 2
}
