{
 "cells": [
  {
   "cell_type": "markdown",
   "metadata": {},
   "source": [
    "# Run EDDY on UKB dataset"
   ]
  },
  {
   "cell_type": "code",
   "execution_count": 4,
   "metadata": {},
   "outputs": [
    {
     "name": "stdout",
     "output_type": "stream",
     "text": [
      "Found 3 subjects in total\n"
     ]
    }
   ],
   "source": [
    "import os\n",
    "import numpy as np\n",
    "import glob\n",
    "import subprocess\n",
    "import sys\n",
    "import json\n",
    "import pandas as pd\n",
    "from pandas.io.json import json_normalize \n",
    "\n",
    "rootdir = '/home/preclineu/ramcir/Desktop/Diffusion/'\n",
    "\n",
    "#submit job to cluster command\n",
    "cluster_log_dir = '/home/preclineu/ramcir/DCCN/TorqueLogs'\n",
    "cmd_qsub_base = ['/home/preclineu/ramcir/DCCN/Scripts/SubmitToCluster.py',\n",
    "                 '-length', '102400',\n",
    "                 '-memory', '20gb',\n",
    "                 '-logfiledir', cluster_log_dir]\n",
    "\n",
    "#get a list of subjects to process\n",
    "sub_dirs = sorted(glob.glob(os.path.join(rootdir,'Subjects','*')))\n",
    "print('Found', len(sub_dirs), 'subjects in total')"
   ]
  },
  {
   "cell_type": "markdown",
   "metadata": {},
   "source": [
    "### Sort subjects"
   ]
  },
  {
   "cell_type": "code",
   "execution_count": 5,
   "metadata": {},
   "outputs": [
    {
     "name": "stdout",
     "output_type": "stream",
     "text": [
      "Found 1 subjects who are missing dMRI data\n",
      "Found 0 subjects who are missing eddy\n",
      "Found 2 subjects ready to process\n",
      "Found 0 subjects already processed\n"
     ]
    }
   ],
   "source": [
    "sub_no_dmri = []\n",
    "sub_no_eddy = []\n",
    "sub_ready = []\n",
    "sub_complete = []\n",
    "\n",
    "# Control the number of subjects\n",
    "sdirs = sub_dirs[0:]\n",
    "\n",
    "for s in sdirs[0:]:\n",
    "    subid = os.path.splitext(os.path.basename(s))[0]\n",
    "\n",
    "    dmridir = os.path.join(s, 'dMRI', 'dMRI')\n",
    "    new_eddy = os.path.join(dmridir, 'data2.qc', 'qc.json')  \n",
    "    eddyfile = os.path.join(dmridir, 'data.eddy_parameters')\n",
    "    \n",
    "    try:\n",
    "        #Check if dMRI data is avalable\n",
    "        if os.path.exists(dmridir) == False:  \n",
    "#             print(subid,' dMRI data not found.')\n",
    "            sub_no_dmri.append(subid)\n",
    "        else: \n",
    "            #Check if EDDY files are available\n",
    "            if os.path.exists(eddyfile) == False:\n",
    "#                 print(subid,' EDDY data not found.')\n",
    "                sub_no_eddy.append(subid)\n",
    "            else:  \n",
    "                #Check if quad has already been run\n",
    "                if os.path.exists(new_eddy) == True:\n",
    "#                     print(subid,' QC already done.') \n",
    "                    sub_complete.append(s)\n",
    "                else:\n",
    "#                     print(subid,' is ready for QC') \n",
    "                    sub_ready.append(s)\n",
    "    except:\n",
    "        print(subid, ' ignored due to', sys.exc_info()[0], '. Continuing with the next subject.')\n",
    "        \n",
    "print('Found', len(sub_no_dmri), 'subjects who are missing dMRI data')\n",
    "print('Found', len(sub_no_eddy), 'subjects who are missing eddy')\n",
    "print('Found', len(sub_ready), 'subjects ready to process')\n",
    "print('Found', len(sub_complete), 'subjects already processed')"
   ]
  },
  {
   "cell_type": "markdown",
   "metadata": {},
   "source": [
    "### Run Eddy"
   ]
  },
  {
   "cell_type": "markdown",
   "metadata": {},
   "source": [
    "##### ! This function requires FSL version 6.0.6"
   ]
  },
  {
   "cell_type": "code",
   "execution_count": null,
   "metadata": {},
   "outputs": [],
   "source": [
    "for s in sub_ready[0:]:  \n",
    "    #Define directories needed\n",
    "    subid = os.path.splitext(os.path.basename(s))[0]\n",
    "    dmridir = os.path.join(s, 'dMRI', 'dMRI')\n",
    "    rawdir = os.path.join(s, 'dMRI', 'raw')\n",
    "\n",
    "    #Write command for running EDDY      \n",
    "    eddy_cmd = ['eddy_cpu ',\n",
    "                 '--init=' + dmridir + '/data.eddy_parameters ',\n",
    "                 '--imain=' + dmridir + '/data.nii.gz ',\n",
    "                 '--mask=' + dmridir + '/b0_average_brain_mask.nii.gz ', \n",
    "                 '--index=' + dmridir + '/index.txt ',\n",
    "                 '--acqp=' + dmridir + '/acqparams.txt ',\n",
    "                 '--bvecs=' + dmridir + '/bvecs ',\n",
    "                 '--bvals=' + dmridir + '/bvals ',\n",
    "                 '--out='  + dmridir + '/data2 ',\n",
    "                 '--niter=0 --cnr_maps'] \n",
    "    \n",
    "    proc_cmd = \"%s\" % str(' '.join(eddy_cmd)) # Join commands together if you wish to run them at the same time\n",
    "    cmd_qsub = cmd_qsub_base + ['-name', 'UKB_fslmaths_' + subid ,'-command \" ', proc_cmd, '\"'] # command for submitting job to cluster\n",
    "    print(' '.join(cmd_qsub))\n",
    "    subprocess.run(' '.join(cmd_qsub), shell=True) #Run command      "
   ]
  },
  {
   "cell_type": "code",
   "execution_count": null,
   "metadata": {},
   "outputs": [],
   "source": []
  }
 ],
 "metadata": {
  "kernelspec": {
   "display_name": "myenv",
   "language": "python",
   "name": "myenv"
  },
  "language_info": {
   "codemirror_mode": {
    "name": "ipython",
    "version": 3
   },
   "file_extension": ".py",
   "mimetype": "text/x-python",
   "name": "python",
   "nbconvert_exporter": "python",
   "pygments_lexer": "ipython3",
   "version": "3.8.12"
  }
 },
 "nbformat": 4,
 "nbformat_minor": 2
}
