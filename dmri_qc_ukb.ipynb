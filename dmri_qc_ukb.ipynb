{
 "cells": [
  {
   "cell_type": "markdown",
   "metadata": {},
   "source": [
    "### Globals"
   ]
  },
  {
   "cell_type": "code",
   "execution_count": 1,
   "metadata": {},
   "outputs": [
    {
     "name": "stdout",
     "output_type": "stream",
     "text": [
      "Found 20 subjects to process\n"
     ]
    }
   ],
   "source": [
    "%matplotlib inline\n",
    "import os\n",
    "import glob\n",
    "import subprocess\n",
    "import sys\n",
    "import json\n",
    "import pandas as pd\n",
    "from pandas.io.json import json_normalize\n",
    "import matplotlib\n",
    "import matplotlib.pyplot as plt\n",
    "import matplotlib.gridspec as gridspec \n",
    "\n",
    "rootdir = '/home/preclineu/ramcir/Desktop/Diffusion/'\n",
    "qcdir = os.path.join(rootdir, 'qc', 'dMRI')\n",
    "\n",
    "if os.path.exists(qcdir) == False:\n",
    "    os.mkdir(os.path.join(rootdir, 'qc', 'dMRI'))\n",
    "else: pass\n",
    "\n",
    "cluster_log_dir = '/home/preclineu/ramcir/DCCN/TorqueLogs'\n",
    "\n",
    "cmd_qsub_base = ['/home/preclineu/ramcir/DCCN/Scripts/SubmitToCluster.py',\n",
    "                 '-length', '102400',\n",
    "                 '-memory', '2gb',\n",
    "                 '-logfiledir', cluster_log_dir\n",
    "                ]\n",
    "\n",
    "# get a list of subjects to process\n",
    "sub_dirs = sorted(glob.glob(os.path.join(rootdir,'subjects','*')))\n",
    "print('Found', len(sub_dirs), 'subjects to process')"
   ]
  },
  {
   "cell_type": "markdown",
   "metadata": {},
   "source": [
    "### Sort subjects"
   ]
  },
  {
   "cell_type": "code",
   "execution_count": 3,
   "metadata": {},
   "outputs": [
    {
     "name": "stdout",
     "output_type": "stream",
     "text": [
      "Found 1 subjects who are missing dMRI data\n",
      "Found 1 subjects who are missing eddy\n",
      "Found 1 subjects ready to process\n",
      "Found 17 subjects already processed\n"
     ]
    }
   ],
   "source": [
    "sub_no_dmri = []\n",
    "sub_no_eddy = []\n",
    "sub_ready = []\n",
    "sub_complete = []\n",
    "\n",
    "# Control the number of subjects\n",
    "sdirs = sub_dirs[0:]\n",
    "\n",
    "for s in sdirs:\n",
    "    subid = os.path.splitext(os.path.basename(s))[0]\n",
    "\n",
    "    dmridir = os.path.join(s, 'dMRI', 'dMRI')\n",
    "    quaddir = os.path.join(dmridir, 'data.qc')  \n",
    "    eddyfile = os.path.join(dmridir, 'data.eddy_parameters')\n",
    "    \n",
    "    try:\n",
    "        #Check if dMRI data is avalable\n",
    "        if os.path.exists(dmridir) == False:  \n",
    "#             print(subid,' dMRI data not found.')\n",
    "            sub_no_dmri.append(subid)\n",
    "        else: \n",
    "            #Check if EDDY files are available\n",
    "            if os.path.exists(eddyfile) == False:\n",
    "#                 print(subid,' EDDY data not found.')\n",
    "                sub_no_eddy.append(subid)\n",
    "            else:  \n",
    "                #Check if quad has already been run\n",
    "                if os.path.exists(quaddir) == True:\n",
    "#                     print(subid,' QC already done.') \n",
    "                    sub_complete.append(s)\n",
    "                else:\n",
    "#                     print(subid,' is ready for QC') \n",
    "                    sub_ready.append(s)\n",
    "    except:\n",
    "        print(subid, ' ignored due to', sys.exc_info()[0], '. Continuing with the next subject.')\n",
    "        \n",
    "print('Found', len(sub_no_dmri), 'subjects who are missing dMRI data')\n",
    "print('Found', len(sub_no_eddy), 'subjects who are missing eddy')\n",
    "print('Found', len(sub_ready), 'subjects ready to process')\n",
    "print('Found', len(sub_complete), 'subjects already processed')\n"
   ]
  },
  {
   "cell_type": "markdown",
   "metadata": {},
   "source": [
    "#### Save arrays of sorted subs"
   ]
  },
  {
   "cell_type": "code",
   "execution_count": 3,
   "metadata": {},
   "outputs": [],
   "source": [
    "import numpy as np\n",
    "no_dmri_array = os.path.join(qcdir,'sub_no_dmri')\n",
    "no_eddy_array = os.path.join(qcdir,'sub_no_eddy')\n",
    "sub_complete_array = os.path.join(qcdir,'sub_qc_dmri')\n",
    "np.save(no_dmri_array, sub_no_dmri)\n",
    "np.save(no_eddy_array, sub_no_eddy)\n",
    "np.save(sub_complete_array, sub_complete)"
   ]
  },
  {
   "cell_type": "markdown",
   "metadata": {},
   "source": [
    "### Run QUAD"
   ]
  },
  {
   "cell_type": "code",
   "execution_count": 4,
   "metadata": {},
   "outputs": [],
   "source": [
    "quad_paths = os.path.join(qcdir,'quad_paths.txt')\n",
    "open(quad_paths, 'a').close()"
   ]
  },
  {
   "cell_type": "code",
   "execution_count": 5,
   "metadata": {},
   "outputs": [
    {
     "name": "stdout",
     "output_type": "stream",
     "text": [
      "1326726  QUAD running\n",
      "This is your qsub command: qsub -l walltime=102400,mem=2gb,nodes=1:ppn=1,epilogue=/home/mrstats/maamen/DCCN/Scripts/Torque/epilogue.sh -q batch -N UKB_quad_1326726 -e /home/preclineu/ramcir/DCCN/TorqueLogs -o /home/preclineu/ramcir/DCCN/TorqueLogs -M ramcir -m n -b y -r y <<EOF\n",
      "fslroi /home/preclineu/ramcir/Desktop/Diffusion/subjects/1326726/dMRI/dMRI/data.nii.gz /home/preclineu/ramcir/Desktop/Diffusion/subjects/1326726/dMRI/dMRI/b0_data.nii.gz 0 1 && bet /home/preclineu/ramcir/Desktop/Diffusion/subjects/1326726/dMRI/dMRI/b0_data.nii.gz /home/preclineu/ramcir/Desktop/Diffusion/subjects/1326726/dMRI/dMRI/nodif -f 0.1 -g 0 -m -n && eddy_quad /home/preclineu/ramcir/Desktop/Diffusion/subjects/1326726/dMRI/dMRI/data -idx /home/preclineu/ramcir/Desktop/Diffusion/subjects/1326726/dMRI/dMRI/index.txt -par /home/preclineu/ramcir/Desktop/Diffusion/subjects/1326726/dMRI/dMRI/acqparams.txt -m /home/preclineu/ramcir/Desktop/Diffusion/subjects/1326726/dMRI/dMRI/nodif_mask -b /home/preclineu/ramcir/Desktop/Diffusion/subjects/1326726/dMRI/dMRI/bvals -g /home/preclineu/ramcir/Desktop/Diffusion/subjects/1326726/dMRI/dMRI/bvecs && echo -e /home/preclineu/ramcir/Desktop/Diffusion/subjects/1326726/dMRI/dMRI/data.qc >> /home/preclineu/ramcir/Desktop/Diffusion/qc/dMRI/quad_paths.txt\n",
      "EOF\n",
      "46371834.dccn-l029.dccn.nl\n"
     ]
    }
   ],
   "source": [
    "for s in sub_ready[0:]:  \n",
    "    subid = os.path.splitext(os.path.basename(s))[0]\n",
    "    dmridir = os.path.join(s, 'dMRI', 'dMRI')\n",
    "    mask_dir = os.path.join(dmridir,'nodif_mask.nii.gz')\n",
    "    acqparam_file = os.path.join(dmridir, 'acqparam.txt')\n",
    "    idx_file = os.path.join(dmridir, 'index.txt')\n",
    "    quaddir = os.path.join(dmridir, 'data.qc')  \n",
    "\n",
    "    \n",
    "    if os.path.exists(quaddir) == True:\n",
    "        print(subid,' QC already done. Doing nothing')\n",
    "    else:\n",
    "        print(subid,' QUAD running')\n",
    "        #Create symbolic link for data_ud with the name data\n",
    "        #This is necessary for running 'quad' since all other eddy outputs are called data.eddy.\n",
    "        os.chdir(dmridir)\n",
    "        if os.path.islink('./data.nii.gz') == False:\n",
    "            os.symlink('./data_ud.nii.gz', './data.nii.gz')\n",
    "        else: pass\n",
    "\n",
    "        #Create aquision parameters file and index file\n",
    "        #The acquisition parameters file is based on dataset acq documentation\n",
    "        #i.e. AP dir = 0 1 0, PA dir = 0 -1 0, Echo spacing = 0.67 ms, EPI factor = 104 (for UKB)\n",
    "        if os.path.exists(acqparam_file) == False:\n",
    "            with open(os.path.join(dmridir,'acqparams.txt'), 'w') as acqparams:\n",
    "                acqparams.write('0 1 0 0.069\\n0 -1 0 0.069')\n",
    "        else:pass\n",
    "\n",
    "        #The index file indicated the direction in which each volume was aquired (based on aqcparams.txt)\n",
    "        #count number of volumes present in data\n",
    "        if os.path.exists(idx_file) == False:\n",
    "            with open(os.path.join(dmridir,'bvals'), 'r') as bvals:\n",
    "                data = bvals.read()\n",
    "                vols = data.split()\n",
    "                no_vols = len(vols)\n",
    "            with open(os.path.join(dmridir,'index.txt'), 'w') as index:\n",
    "                for vol in range(0,no_vols):    \n",
    "                    index.write('1 ')\n",
    "        else:pass\n",
    "    \n",
    "        #Write command for creating the b0 mask \n",
    "        \n",
    "        fslroi_cmd = ['fslroi ' + dmridir + '/data.nii.gz',\n",
    "                           dmridir + '/b0_data.nii.gz' ' 0 1']\n",
    "        fslbet_cmd = ['bet ' + dmridir + '/b0_data.nii.gz',\n",
    "                           dmridir + '/nodif' ' -f 0.1 -g 0 -m -n']\n",
    "    \n",
    "        #Write command for running QUAD      \n",
    "        quad_cmd = ['eddy_quad ' + dmridir + '/data',\n",
    "                     '-idx ' + dmridir + '/index.txt',\n",
    "                     '-par ' + dmridir + '/acqparams.txt',\n",
    "                     '-m ' + dmridir + '/nodif_mask', \n",
    "                     '-b ' + dmridir + '/bvals ' \n",
    "                     '-g '  + dmridir + '/bvecs']\n",
    "        \n",
    "        #Add the path of the qc folder to txt file (will be needed for SQUAD)\n",
    "        append_cmd = ['echo -e \"', quaddir, '\" >> ', quad_paths ]\n",
    "\n",
    "        #Join comands and sumbit process\n",
    "        proc_cmd = '\"%s\"' % str(' '.join(fslroi_cmd) + ' && ' + ' '.join(fslbet_cmd) + ' && ' + ' '.join(quad_cmd) + ' && ' + ''.join(append_cmd))\n",
    "        cmd_qsub = cmd_qsub_base + ['-name', 'UKB_quad_' + subid ,'-command', proc_cmd]     \n",
    "        subprocess.run(' '.join(cmd_qsub), shell=True)\n",
    "             "
   ]
  },
  {
   "cell_type": "markdown",
   "metadata": {},
   "source": [
    "### Run SQUAD\n",
    "Only run after all subjects have quad"
   ]
  },
  {
   "cell_type": "code",
   "execution_count": 45,
   "metadata": {},
   "outputs": [
    {
     "name": "stdout",
     "output_type": "stream",
     "text": [
      "eddy_squad /project_freenas/3022017.02/UKB/qc/dMRI/quad_paths.txt -o /project_freenas/3022017.02/UKB/qc/dMRI/squad\n"
     ]
    },
    {
     "data": {
      "text/plain": [
       "CompletedProcess(args='eddy_squad /project_freenas/3022017.02/UKB/qc/dMRI/quad_paths.txt -o /project_freenas/3022017.02/UKB/qc/dMRI/squad', returncode=0)"
      ]
     },
     "execution_count": 45,
     "metadata": {},
     "output_type": "execute_result"
    }
   ],
   "source": [
    "squad_cmd = 'eddy_squad'\n",
    "quad_folders = os.path.join(qcdir,'quad_paths.txt')\n",
    "prep_cmd = squad_cmd + ' ' + os.path.join(qcdir,'quad_paths.txt') + ' -o ' + os.path.join(qcdir,'squad')\n",
    "print(prep_cmd)\n",
    "subprocess.run(prep_cmd, shell = True)        "
   ]
  },
  {
   "cell_type": "markdown",
   "metadata": {},
   "source": [
    "### Run slicesdir\n",
    "To check the binary mask"
   ]
  },
  {
   "cell_type": "code",
   "execution_count": null,
   "metadata": {},
   "outputs": [],
   "source": [
    "string = \"\"\n",
    "\n",
    "#this is where the slicesdir will be saved\n",
    "os.chdir(qcdir)\n",
    "\n",
    "#append the path to b0_data and nodif_mask for each sub\n",
    "for s in sub_complete[0:9]:\n",
    "    dmridir = os.path.join(s, 'dMRI', 'dMRI')\n",
    "    string+=str(dmridir + '/b0_data.nii.gz ' + dmridir + '/nodif_mask.nii.gz' + ' ')\n",
    "\n",
    "#prep and run the slicesdir command\n",
    "slices_cmd = 'slicesdir'\n",
    "prep_cmd = slices_cmd + ' -o ' + string\n",
    "subprocess.run(prep_cmd, shell = True)"
   ]
  },
  {
   "cell_type": "markdown",
   "metadata": {},
   "source": [
    "#### Check if any paths are missing from the text file"
   ]
  },
  {
   "cell_type": "code",
   "execution_count": 44,
   "metadata": {},
   "outputs": [
    {
     "name": "stdout",
     "output_type": "stream",
     "text": [
      "There are 23158 paths in the text file.\n",
      "0 paths are missing.\n"
     ]
    }
   ],
   "source": [
    "if os.path.exists(quad_paths) == True:\n",
    "    with open(quad_paths, 'r') as paths:\n",
    "        n_paths = len(paths.readlines())\n",
    "    print('There are',n_paths,'paths in the text file.')\n",
    "else:\n",
    "    print('The paths text file doesnot exist')\n",
    "print(len(sub_complete)-n_paths, 'paths are missing.')"
   ]
  },
  {
   "cell_type": "markdown",
   "metadata": {},
   "source": [
    "#### Add the missing paths to the text file"
   ]
  },
  {
   "cell_type": "code",
   "execution_count": 43,
   "metadata": {},
   "outputs": [
    {
     "name": "stdout",
     "output_type": "stream",
     "text": [
      "0 paths were added.\n"
     ]
    }
   ],
   "source": [
    "missed_subs = []\n",
    "quad_paths = os.path.join(qcdir,'quad_paths.txt')\n",
    "open(quad_paths, 'a').close()\n",
    "for s in sub_complete[0:]: \n",
    "    dmridir = os.path.join(s, 'dMRI', 'dMRI')\n",
    "    quaddir = os.path.join(dmridir, 'data.qc') \n",
    "    with open(quad_paths, 'r') as f:\n",
    "        if quaddir in f.read():\n",
    "             continue\n",
    "        else:\n",
    "            with open(quad_paths, 'a') as f:\n",
    "                missed_subs.append(s)\n",
    "                f.write(quaddir + '\\n')\n",
    "print(len(missed_subs), 'paths were added.')"
   ]
  },
  {
   "cell_type": "code",
   "execution_count": 29,
   "metadata": {},
   "outputs": [
    {
     "data": {
      "text/html": [
       "<div>\n",
       "<style scoped>\n",
       "    .dataframe tbody tr th:only-of-type {\n",
       "        vertical-align: middle;\n",
       "    }\n",
       "\n",
       "    .dataframe tbody tr th {\n",
       "        vertical-align: top;\n",
       "    }\n",
       "\n",
       "    .dataframe thead th {\n",
       "        text-align: right;\n",
       "    }\n",
       "</style>\n",
       "<table border=\"1\" class=\"dataframe\">\n",
       "  <thead>\n",
       "    <tr style=\"text-align: right;\">\n",
       "      <th></th>\n",
       "      <th>Avg x tr</th>\n",
       "      <th>Avg y tr</th>\n",
       "      <th>Avg z tr</th>\n",
       "      <th>Avg x rot</th>\n",
       "      <th>Avg y rot</th>\n",
       "      <th>Avg z rot</th>\n",
       "      <th>Std EC x</th>\n",
       "      <th>Std EC y</th>\n",
       "      <th>Std EC z</th>\n",
       "      <th>Outliers b = 1000</th>\n",
       "      <th>Outliers b = 1997</th>\n",
       "      <th>Outliers PE dir (0, 1, 0)</th>\n",
       "      <th>Avg abs motion</th>\n",
       "      <th>Avg rel motion</th>\n",
       "      <th>Total outliers</th>\n",
       "    </tr>\n",
       "  </thead>\n",
       "  <tbody>\n",
       "    <tr>\n",
       "      <th>6025069</th>\n",
       "      <td>-0.023961</td>\n",
       "      <td>-0.146817</td>\n",
       "      <td>0.105116</td>\n",
       "      <td>-0.000316</td>\n",
       "      <td>-0.004077</td>\n",
       "      <td>0.007456</td>\n",
       "      <td>0.098796</td>\n",
       "      <td>0.137724</td>\n",
       "      <td>0.238447</td>\n",
       "      <td>1.111111</td>\n",
       "      <td>0.0</td>\n",
       "      <td>0.529101</td>\n",
       "      <td>1.94</td>\n",
       "      <td>2.1</td>\n",
       "      <td>0.555556</td>\n",
       "    </tr>\n",
       "  </tbody>\n",
       "</table>\n",
       "</div>"
      ],
      "text/plain": [
       "         Avg x tr  Avg y tr  Avg z tr Avg x rot Avg y rot Avg z rot Std EC x   \\\n",
       "6025069 -0.023961 -0.146817  0.105116 -0.000316 -0.004077  0.007456  0.098796   \n",
       "\n",
       "         Std EC y  Std EC z Outliers b = 1000 Outliers b = 1997  \\\n",
       "6025069  0.137724  0.238447          1.111111               0.0   \n",
       "\n",
       "        Outliers PE dir (0, 1, 0)  Avg abs motion  Avg rel motion  \\\n",
       "6025069                  0.529101            1.94             2.1   \n",
       "\n",
       "         Total outliers  \n",
       "6025069        0.555556  "
      ]
     },
     "metadata": {},
     "output_type": "display_data"
    },
    {
     "data": {
      "text/html": [
       "<div>\n",
       "<style scoped>\n",
       "    .dataframe tbody tr th:only-of-type {\n",
       "        vertical-align: middle;\n",
       "    }\n",
       "\n",
       "    .dataframe tbody tr th {\n",
       "        vertical-align: top;\n",
       "    }\n",
       "\n",
       "    .dataframe thead th {\n",
       "        text-align: right;\n",
       "    }\n",
       "</style>\n",
       "<table border=\"1\" class=\"dataframe\">\n",
       "  <thead>\n",
       "    <tr style=\"text-align: right;\">\n",
       "      <th></th>\n",
       "      <th>Avg x tr</th>\n",
       "      <th>Avg y tr</th>\n",
       "      <th>Avg z tr</th>\n",
       "      <th>Avg x rot</th>\n",
       "      <th>Avg y rot</th>\n",
       "      <th>Avg z rot</th>\n",
       "      <th>Std EC x</th>\n",
       "      <th>Std EC y</th>\n",
       "      <th>Std EC z</th>\n",
       "      <th>Outliers b = 1000</th>\n",
       "      <th>Outliers b = 1997</th>\n",
       "      <th>Outliers PE dir (0, 1, 0)</th>\n",
       "      <th>Avg abs motion</th>\n",
       "      <th>Avg rel motion</th>\n",
       "      <th>Total outliers</th>\n",
       "    </tr>\n",
       "  </thead>\n",
       "  <tbody>\n",
       "    <tr>\n",
       "      <th>1000432</th>\n",
       "      <td>0.067655</td>\n",
       "      <td>-0.939196</td>\n",
       "      <td>0.114672</td>\n",
       "      <td>-0.005516</td>\n",
       "      <td>-0.000493</td>\n",
       "      <td>0.002742</td>\n",
       "      <td>0.06272</td>\n",
       "      <td>0.058086</td>\n",
       "      <td>0.270621</td>\n",
       "      <td>2.472222</td>\n",
       "      <td>1.611111</td>\n",
       "      <td>1.944444</td>\n",
       "      <td>1.17</td>\n",
       "      <td>0.78</td>\n",
       "      <td>2.041667</td>\n",
       "    </tr>\n",
       "    <tr>\n",
       "      <th>1000853</th>\n",
       "      <td>0.017003</td>\n",
       "      <td>-0.585111</td>\n",
       "      <td>-0.34155</td>\n",
       "      <td>0.014469</td>\n",
       "      <td>0.00039</td>\n",
       "      <td>0.000271</td>\n",
       "      <td>0.076919</td>\n",
       "      <td>0.100986</td>\n",
       "      <td>0.252164</td>\n",
       "      <td>0.75</td>\n",
       "      <td>0.111111</td>\n",
       "      <td>0.410053</td>\n",
       "      <td>2.21</td>\n",
       "      <td>2.21</td>\n",
       "      <td>0.430556</td>\n",
       "    </tr>\n",
       "    <tr>\n",
       "      <th>1000871</th>\n",
       "      <td>0.089933</td>\n",
       "      <td>0.25977</td>\n",
       "      <td>-0.088388</td>\n",
       "      <td>0.002289</td>\n",
       "      <td>-0.00385</td>\n",
       "      <td>0.002406</td>\n",
       "      <td>0.079946</td>\n",
       "      <td>0.09907</td>\n",
       "      <td>0.320405</td>\n",
       "      <td>1.138889</td>\n",
       "      <td>0.083333</td>\n",
       "      <td>0.582011</td>\n",
       "      <td>0.66</td>\n",
       "      <td>0.72</td>\n",
       "      <td>0.611111</td>\n",
       "    </tr>\n",
       "    <tr>\n",
       "      <th>1000910</th>\n",
       "      <td>-0.036212</td>\n",
       "      <td>-1.11116</td>\n",
       "      <td>-0.109127</td>\n",
       "      <td>0.002199</td>\n",
       "      <td>0.001733</td>\n",
       "      <td>-0.000738</td>\n",
       "      <td>0.08531</td>\n",
       "      <td>0.119553</td>\n",
       "      <td>0.267191</td>\n",
       "      <td>0.888889</td>\n",
       "      <td>0.0</td>\n",
       "      <td>0.42328</td>\n",
       "      <td>2.21</td>\n",
       "      <td>2.28</td>\n",
       "      <td>0.444444</td>\n",
       "    </tr>\n",
       "    <tr>\n",
       "      <th>1001309</th>\n",
       "      <td>0.02974</td>\n",
       "      <td>0.262508</td>\n",
       "      <td>-0.068946</td>\n",
       "      <td>-0.001847</td>\n",
       "      <td>-0.001499</td>\n",
       "      <td>0.000386</td>\n",
       "      <td>0.097156</td>\n",
       "      <td>0.166894</td>\n",
       "      <td>0.359241</td>\n",
       "      <td>1.416667</td>\n",
       "      <td>0.111111</td>\n",
       "      <td>0.727513</td>\n",
       "      <td>0.75</td>\n",
       "      <td>0.95</td>\n",
       "      <td>0.763889</td>\n",
       "    </tr>\n",
       "    <tr>\n",
       "      <th>...</th>\n",
       "      <td>...</td>\n",
       "      <td>...</td>\n",
       "      <td>...</td>\n",
       "      <td>...</td>\n",
       "      <td>...</td>\n",
       "      <td>...</td>\n",
       "      <td>...</td>\n",
       "      <td>...</td>\n",
       "      <td>...</td>\n",
       "      <td>...</td>\n",
       "      <td>...</td>\n",
       "      <td>...</td>\n",
       "      <td>...</td>\n",
       "      <td>...</td>\n",
       "      <td>...</td>\n",
       "    </tr>\n",
       "    <tr>\n",
       "      <th>6024203</th>\n",
       "      <td>0.101807</td>\n",
       "      <td>-0.603691</td>\n",
       "      <td>0.224198</td>\n",
       "      <td>0.001211</td>\n",
       "      <td>-0.004055</td>\n",
       "      <td>0.001184</td>\n",
       "      <td>0.064395</td>\n",
       "      <td>0.050533</td>\n",
       "      <td>0.217613</td>\n",
       "      <td>0.694444</td>\n",
       "      <td>0.055556</td>\n",
       "      <td>0.357143</td>\n",
       "      <td>1.01</td>\n",
       "      <td>0.96</td>\n",
       "      <td>0.375</td>\n",
       "    </tr>\n",
       "    <tr>\n",
       "      <th>6024607</th>\n",
       "      <td>0.016293</td>\n",
       "      <td>-0.982952</td>\n",
       "      <td>-0.039073</td>\n",
       "      <td>0.001267</td>\n",
       "      <td>0.003334</td>\n",
       "      <td>0.001799</td>\n",
       "      <td>0.064279</td>\n",
       "      <td>0.084206</td>\n",
       "      <td>0.117544</td>\n",
       "      <td>0.972222</td>\n",
       "      <td>0.138889</td>\n",
       "      <td>0.529101</td>\n",
       "      <td>1.21</td>\n",
       "      <td>1.1</td>\n",
       "      <td>0.555556</td>\n",
       "    </tr>\n",
       "    <tr>\n",
       "      <th>6024836</th>\n",
       "      <td>0.080954</td>\n",
       "      <td>-1.255294</td>\n",
       "      <td>0.07345</td>\n",
       "      <td>-0.001774</td>\n",
       "      <td>-0.000696</td>\n",
       "      <td>0.000231</td>\n",
       "      <td>0.101629</td>\n",
       "      <td>0.32277</td>\n",
       "      <td>0.23502</td>\n",
       "      <td>0.5</td>\n",
       "      <td>0.0</td>\n",
       "      <td>0.238095</td>\n",
       "      <td>1.6</td>\n",
       "      <td>1.54</td>\n",
       "      <td>0.25</td>\n",
       "    </tr>\n",
       "    <tr>\n",
       "      <th>6025056</th>\n",
       "      <td>-0.02552</td>\n",
       "      <td>-0.434727</td>\n",
       "      <td>-0.323077</td>\n",
       "      <td>0.002625</td>\n",
       "      <td>0.004309</td>\n",
       "      <td>0.003158</td>\n",
       "      <td>0.085053</td>\n",
       "      <td>0.063911</td>\n",
       "      <td>0.196396</td>\n",
       "      <td>0.972222</td>\n",
       "      <td>0.027778</td>\n",
       "      <td>0.47619</td>\n",
       "      <td>1.87</td>\n",
       "      <td>2.07</td>\n",
       "      <td>0.5</td>\n",
       "    </tr>\n",
       "    <tr>\n",
       "      <th>6025069</th>\n",
       "      <td>-0.023961</td>\n",
       "      <td>-0.146817</td>\n",
       "      <td>0.105116</td>\n",
       "      <td>-0.000316</td>\n",
       "      <td>-0.004077</td>\n",
       "      <td>0.007456</td>\n",
       "      <td>0.098796</td>\n",
       "      <td>0.137724</td>\n",
       "      <td>0.238447</td>\n",
       "      <td>1.111111</td>\n",
       "      <td>0.0</td>\n",
       "      <td>0.529101</td>\n",
       "      <td>1.94</td>\n",
       "      <td>2.1</td>\n",
       "      <td>0.555556</td>\n",
       "    </tr>\n",
       "  </tbody>\n",
       "</table>\n",
       "<p>23158 rows × 15 columns</p>\n",
       "</div>"
      ],
      "text/plain": [
       "         Avg x tr  Avg y tr  Avg z tr Avg x rot Avg y rot Avg z rot Std EC x   \\\n",
       "1000432  0.067655 -0.939196  0.114672 -0.005516 -0.000493  0.002742   0.06272   \n",
       "1000853  0.017003 -0.585111  -0.34155  0.014469   0.00039  0.000271  0.076919   \n",
       "1000871  0.089933   0.25977 -0.088388  0.002289  -0.00385  0.002406  0.079946   \n",
       "1000910 -0.036212  -1.11116 -0.109127  0.002199  0.001733 -0.000738   0.08531   \n",
       "1001309   0.02974  0.262508 -0.068946 -0.001847 -0.001499  0.000386  0.097156   \n",
       "...           ...       ...       ...       ...       ...       ...       ...   \n",
       "6024203  0.101807 -0.603691  0.224198  0.001211 -0.004055  0.001184  0.064395   \n",
       "6024607  0.016293 -0.982952 -0.039073  0.001267  0.003334  0.001799  0.064279   \n",
       "6024836  0.080954 -1.255294   0.07345 -0.001774 -0.000696  0.000231  0.101629   \n",
       "6025056  -0.02552 -0.434727 -0.323077  0.002625  0.004309  0.003158  0.085053   \n",
       "6025069 -0.023961 -0.146817  0.105116 -0.000316 -0.004077  0.007456  0.098796   \n",
       "\n",
       "         Std EC y  Std EC z Outliers b = 1000 Outliers b = 1997  \\\n",
       "1000432  0.058086  0.270621          2.472222          1.611111   \n",
       "1000853  0.100986  0.252164              0.75          0.111111   \n",
       "1000871   0.09907  0.320405          1.138889          0.083333   \n",
       "1000910  0.119553  0.267191          0.888889               0.0   \n",
       "1001309  0.166894  0.359241          1.416667          0.111111   \n",
       "...           ...       ...               ...               ...   \n",
       "6024203  0.050533  0.217613          0.694444          0.055556   \n",
       "6024607  0.084206  0.117544          0.972222          0.138889   \n",
       "6024836   0.32277   0.23502               0.5               0.0   \n",
       "6025056  0.063911  0.196396          0.972222          0.027778   \n",
       "6025069  0.137724  0.238447          1.111111               0.0   \n",
       "\n",
       "        Outliers PE dir (0, 1, 0) Avg abs motion Avg rel motion Total outliers  \n",
       "1000432                  1.944444           1.17           0.78       2.041667  \n",
       "1000853                  0.410053           2.21           2.21       0.430556  \n",
       "1000871                  0.582011           0.66           0.72       0.611111  \n",
       "1000910                   0.42328           2.21           2.28       0.444444  \n",
       "1001309                  0.727513           0.75           0.95       0.763889  \n",
       "...                           ...            ...            ...            ...  \n",
       "6024203                  0.357143           1.01           0.96          0.375  \n",
       "6024607                  0.529101           1.21            1.1       0.555556  \n",
       "6024836                  0.238095            1.6           1.54           0.25  \n",
       "6025056                   0.47619           1.87           2.07            0.5  \n",
       "6025069                  0.529101           1.94            2.1       0.555556  \n",
       "\n",
       "[23158 rows x 15 columns]"
      ]
     },
     "metadata": {},
     "output_type": "display_data"
    }
   ],
   "source": [
    "df_fin = pd.DataFrame(columns = ['Avg x tr','Avg y tr','Avg z tr','Avg x rot','Avg y rot','Avg z rot','Std EC x ','Std EC y','Std EC z', 'Outliers b = 1000','Outliers b = 1997', 'Outliers PE dir (0, 1, 0)','Avg abs motion','Avg rel motion','Total outliers'])\n",
    "for s in sub_complete[0:]: \n",
    "    subid = os.path.splitext(os.path.basename(s))[0]\n",
    "    dmridir = os.path.join(s, 'dMRI', 'dMRI')\n",
    "    quaddir = os.path.join(dmridir, 'data.qc')\n",
    "    jsonfile = os.path.join(quaddir, 'qc.json')\n",
    "    with open(jsonfile, 'r') as f:\n",
    "        data = json.loads(f.read())\n",
    "    df1 = pd.json_normalize(data, record_path = ['qc_params_avg'], meta = ['qc_mot_abs', 'qc_mot_rel', 'qc_outliers_tot'  ])\n",
    "    df2 = pd.json_normalize(data, record_path = ['qc_outliers_b'])\n",
    "    df3 = pd.json_normalize(data, record_path = ['qc_outliers_pe'])\n",
    "    df_frames = [df1, df2, df3]\n",
    "    df_sub = pd.concat(df_frames)\n",
    "    qc_mot_abs = df_sub.iloc[0,1]\n",
    "    qc_mot_rel = df_sub.iloc[0,2]\n",
    "    qc_outliers_tot = df_sub.iloc[0,3]\n",
    "    df_sub = df_sub.transpose()\n",
    "    df_sub = df_sub.drop(index= ['qc_mot_abs', 'qc_mot_rel', 'qc_outliers_tot'])\n",
    "    df_sub['qc_mot_abs'], df_sub['qc_mot_rel'], df_sub['qc_outliers_tot'] = [qc_mot_abs, qc_mot_rel, qc_outliers_tot] \n",
    "    df_sub.columns = ['Avg x tr','Avg y tr','Avg z tr','Avg x rot','Avg y rot','Avg z rot','Std EC x ','Std EC y','Std EC z', 'Outliers b = 1000','Outliers b = 1997', 'Outliers PE dir (0, 1, 0)','Avg abs motion','Avg rel motion','Total outliers']\n",
    "    df_sub.index = [subid]\n",
    "    df_fin = pd.concat([df_fin, df_sub])\n",
    "display(df_sub)\n",
    "display(df_fin)"
   ]
  },
  {
   "cell_type": "code",
   "execution_count": 32,
   "metadata": {},
   "outputs": [],
   "source": [
    "df_fin.to_pickle(\"./quad_metrics_ukb.pkl\")"
   ]
  },
  {
   "cell_type": "code",
   "execution_count": null,
   "metadata": {},
   "outputs": [],
   "source": [
    "plt.hist(df_fin['Avg x tr'], bins = 1000)"
   ]
  },
  {
   "cell_type": "code",
   "execution_count": 40,
   "metadata": {},
   "outputs": [
    {
     "data": {
      "image/png": "[encoded data removed]",
      "text/plain": [
       "<Figure size 1440x360 with 3 Axes>"
      ]
     },
     "metadata": {
      "needs_background": "light"
     },
     "output_type": "display_data"
    }
   ],
   "source": [
    "fig1 = plt.figure(figsize=(20, 5))\n",
    "\n",
    "plt.subplot(1,3,1)\n",
    "plt.hist(df_fin['Avg x tr'], bins = 1000)\n",
    "plt.title('Average x translation')\n",
    "\n",
    "plt.subplot(1,3,2)\n",
    "plt.hist(df_fin['Avg y tr'], bins = 1000)\n",
    "plt.title('Average y translation')\n",
    "\n",
    "plt.subplot(1,3,3)\n",
    "plt.hist(df_fin['Avg z tr'], bins = 1000)\n",
    "plt.title('Average z translation')\n",
    "\n",
    "fig1.tight_layout(pad = 3)\n",
    "plt.show()"
   ]
  },
  {
   "cell_type": "code",
   "execution_count": 41,
   "metadata": {},
   "outputs": [
    {
     "data": {
      "image/png": "[encoded data removed]",
      "text/plain": [
       "<Figure size 1440x360 with 3 Axes>"
      ]
     },
     "metadata": {
      "needs_background": "light"
     },
     "output_type": "display_data"
    }
   ],
   "source": [
    "fig1 = plt.figure(figsize=(20, 5))\n",
    "\n",
    "plt.subplot(1,3,1)\n",
    "plt.hist(df_fin['Avg x rot'], bins = 1000)\n",
    "plt.title('Average x rotation')\n",
    "\n",
    "plt.subplot(1,3,2)\n",
    "plt.hist(df_fin['Avg y rot'], bins = 1000)\n",
    "plt.title('Average y rotation')\n",
    "\n",
    "plt.subplot(1,3,3)\n",
    "plt.hist(df_fin['Avg z rot'], bins = 1000)\n",
    "plt.title('Average z rotation')\n",
    "\n",
    "fig1.tight_layout(pad = 3)\n",
    "plt.show()"
   ]
  },
  {
   "cell_type": "code",
   "execution_count": 43,
   "metadata": {},
   "outputs": [
    {
     "data": {
      "image/png": "[encoded data removed]",
      "text/plain": [
       "<Figure size 1440x360 with 3 Axes>"
      ]
     },
     "metadata": {
      "needs_background": "light"
     },
     "output_type": "display_data"
    }
   ],
   "source": [
    "fig1 = plt.figure(figsize=(20, 5))\n",
    "\n",
    "plt.subplot(1,3,1)\n",
    "plt.hist(df_fin['Std EC x '], bins = 1000)\n",
    "plt.title('Std Dev EC linear term x')\n",
    "\n",
    "plt.subplot(1,3,2)\n",
    "plt.hist(df_fin['Std EC y'], bins = 1000)\n",
    "plt.title('Std Dev EC linear term y')\n",
    "\n",
    "plt.subplot(1,3,3)\n",
    "plt.hist(df_fin['Std EC z'], bins = 1000)\n",
    "plt.title('Std Dev EC linear term z')\n",
    "\n",
    "fig1.tight_layout(pad = 3)\n",
    "plt.show()"
   ]
  },
  {
   "cell_type": "code",
   "execution_count": 45,
   "metadata": {},
   "outputs": [
    {
     "data": {
      "image/png": "[encoded data removed]",
      "text/plain": [
       "<Figure size 1440x360 with 3 Axes>"
      ]
     },
     "metadata": {
      "needs_background": "light"
     },
     "output_type": "display_data"
    }
   ],
   "source": [
    "fig1 = plt.figure(figsize=(20, 5))\n",
    "\n",
    "plt.subplot(1,3,1)\n",
    "plt.hist(df_fin['Outliers b = 1000'], bins = 100)\n",
    "plt.title('Outliers b = 1000')\n",
    "\n",
    "plt.subplot(1,3,2)\n",
    "plt.hist(df_fin['Outliers b = 1997'], bins = 100)\n",
    "plt.title('Outliers b = 1997')\n",
    "\n",
    "plt.subplot(1,3,3)\n",
    "plt.hist(df_fin['Outliers PE dir (0, 1, 0)'], bins = 100)\n",
    "plt.title('Outliers PE dir (0, 1, 0)')\n",
    "\n",
    "fig1.tight_layout(pad = 3)\n",
    "plt.show()"
   ]
  },
  {
   "cell_type": "code",
   "execution_count": 46,
   "metadata": {},
   "outputs": [
    {
     "data": {
      "image/png": "[encoded data removed]",
      "text/plain": [
       "<Figure size 1440x360 with 3 Axes>"
      ]
     },
     "metadata": {
      "needs_background": "light"
     },
     "output_type": "display_data"
    }
   ],
   "source": [
    "fig1 = plt.figure(figsize=(20, 5))\n",
    "\n",
    "plt.subplot(1,3,1)\n",
    "plt.hist(df_fin['Avg abs motion'], bins = 100)\n",
    "plt.title('Average absolute motion')\n",
    "\n",
    "plt.subplot(1,3,2)\n",
    "plt.hist(df_fin['Avg rel motion'], bins = 100)\n",
    "plt.title('Avrage relative motion')\n",
    "\n",
    "plt.subplot(1,3,3)\n",
    "plt.hist(df_fin['Total outliers'], bins = 100)\n",
    "plt.title('Total outliers')\n",
    "\n",
    "fig1.tight_layout(pad = 3)\n",
    "plt.show()"
   ]
  },
  {
   "cell_type": "code",
   "execution_count": null,
   "metadata": {},
   "outputs": [],
   "source": []
  }
 ],
 "metadata": {
  "kernelspec": {
   "display_name": "myenv",
   "language": "python",
   "name": "myenv"
  },
  "language_info": {
   "codemirror_mode": {
    "name": "ipython",
    "version": 3
   },
   "file_extension": ".py",
   "mimetype": "text/x-python",
   "name": "python",
   "nbconvert_exporter": "python",
   "pygments_lexer": "ipython3",
   "version": "3.8.12"
  }
 },
 "nbformat": 4,
 "nbformat_minor": 4
}
