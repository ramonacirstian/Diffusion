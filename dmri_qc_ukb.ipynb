{
 "cells": [
  {
   "cell_type": "markdown",
   "metadata": {},
   "source": [
    "## Globals"
   ]
  },
  {
   "cell_type": "code",
   "execution_count": 127,
   "metadata": {},
   "outputs": [
    {
     "name": "stdout",
     "output_type": "stream",
     "text": [
      "/home/preclineu/ramcir/Desktop/Diffusion/QC\n",
      "Found 21 subjects to process\n"
     ]
    }
   ],
   "source": [
    "from __future__ import print_function\n",
    "\n",
    "import os\n",
    "import re\n",
    "import glob\n",
    "import subprocess\n",
    "\n",
    "\n",
    "rootdir = '/home/preclineu/ramcir/Desktop/Diffusion/'\n",
    "qcdir = os.path.join(rootdir, 'QC')\n",
    "\n",
    "if os.path.exists(qcdir) == False:\n",
    "    os.mkdir(os.path.join(rootdir, 'QC'))\n",
    "else: pass\n",
    "\n",
    "cluster_log_dir = '/home/preclineu/ramcir/DCCN/TorqueLogs'\n",
    "\n",
    "cmd_qsub_base = ['/home/preclineu/ramcir/DCCN/Scripts/SubmitToCluster.py',\n",
    "                 '-length', '102400',\n",
    "                 '-memory', '2gb',\n",
    "                 '-logfiledir', cluster_log_dir\n",
    "                ]\n",
    "\n",
    "# get a list of subjects to process\n",
    "sub_dirs = sorted(glob.glob(os.path.join(rootdir,'Subs','*')))\n",
    "print('Found', len(sub_dirs), 'subjects to process')"
   ]
  },
  {
   "cell_type": "markdown",
   "metadata": {},
   "source": [
    "### Prepare subjects for QC by creating missing files"
   ]
  },
  {
   "cell_type": "code",
   "execution_count": 124,
   "metadata": {},
   "outputs": [],
   "source": [
    "def prep_sub(dmridir):\n",
    "        \n",
    "    mask_dir = os.path.join(dmridir,'nodif_mask.nii.gz')\n",
    "    acqparam_file = os.path.join(dmridir, 'acqparam.txt')\n",
    "    idx_file = os.path.join(dmridir, 'index.txt')\n",
    "    \n",
    "    #Create symbolic link for data_ud with the name data\n",
    "    #This is necessary for running 'quad' since all other eddy outputs are called data.eddy.-\n",
    "    data_ud = os.path.join(dmridir, 'data_ud.nii.gz')\n",
    "    data = os.path.join(dmridir, 'data.nii.gz')\n",
    "    \n",
    "    if os.path.islink(data) == False:\n",
    "        os.symlink(data_ud, data)\n",
    "    else:\n",
    "        pass\n",
    "\n",
    "    #Write command for creating the b0 mask and run the bash process\n",
    "    if os.path.exists(mask_dir) == False:\n",
    "        fslroi_cmd = ['fslroi ' + dmridir + '/data.nii.gz',\n",
    "              dmridir + '/b0_data.nii.gz' ' 0 1']\n",
    "        fslbet_cmd = ['bet ' + dmridir + '/b0_data.nii.gz',\n",
    "              dmridir + '/nodif' ' -f 0.1 -g 0 -m -n']\n",
    "\n",
    "        cmd_str = '\"%s\"' % str(' '.join(fslroi_cmd) + ' && ' + ' '.join(fslbet_cmd) ) \n",
    "        cmd_qsub = cmd_qsub_base + ['-name', 'UKB_fsl_roi','-command', cmd_str]\n",
    "        subprocess.run(' '.join(cmd_qsub), shell=True)       \n",
    "    else:\n",
    "        pass\n",
    "\n",
    "    #Create aquision parameters file and index file\n",
    "    #The acquisition parameters file is based on dataset acq documentation\n",
    "    #i.e. AP dir = 0 1 0, PA dir = 0 -1 0, Echo spacing = 0.67 ms, EPI factor = 104 (for UKB)\n",
    "    if os.path.exists(acqparam_file) == False:\n",
    "        with open(os.path.join(dmridir,'acqparams.txt'), 'w') as acqparams:\n",
    "            acqparams.write('0 1 0 0.069\\n0 -1 0 0.069')\n",
    "    else:\n",
    "        pass\n",
    "\n",
    "    #The index file indicated the direction in which each volume was aquired (based on aqcparams.txt)\n",
    "    #count number of volumes present in data\n",
    "    if os.path.exists(idx_file) == False:\n",
    "        with open(os.path.join(dmridir,'bvals'), 'r') as bvals:\n",
    "            data = bvals.read()\n",
    "            vols = data.split()\n",
    "            no_vols = len(vols)\n",
    "        with open(os.path.join(dmridir,'index.txt'), 'w') as index:\n",
    "            for vol in range(0,no_vols):    \n",
    "                index.write('1 ')\n",
    "    else:\n",
    "        pass"
   ]
  },
  {
   "cell_type": "markdown",
   "metadata": {},
   "source": [
    "## Run QUAD\n",
    "    1. Check for missing files\n",
    "    2. Create missing files (with prep_sub)\n",
    "    3. Run QUAD"
   ]
  },
  {
   "cell_type": "code",
   "execution_count": 129,
   "metadata": {},
   "outputs": [
    {
     "name": "stdout",
     "output_type": "stream",
     "text": [
      "1000050  EDDY data not found. Doing nothing\n",
      "1000432  is being prepared for QC\n",
      "1000432  is running QUAD\n",
      "/home/preclineu/ramcir/DCCN/Scripts/SubmitToCluster.py -length 102400 -memory 2gb -logfiledir /home/preclineu/ramcir/DCCN/TorqueLogs -name UKB_eddy_quad -command \"eddy_quad /home/preclineu/ramcir/Desktop/Diffusion/Subs/1000432/dMRI/dMRI/data -idx /home/preclineu/ramcir/Desktop/Diffusion/Subs/1000432/dMRI/dMRI/index.txt -par /home/preclineu/ramcir/Desktop/Diffusion/Subs/1000432/dMRI/dMRI/acqparams.txt -m /home/preclineu/ramcir/Desktop/Diffusion/Subs/1000432/dMRI/dMRI/nodif_mask -b /home/preclineu/ramcir/Desktop/Diffusion/Subs/1000432/dMRI/dMRI/bvals -g /home/preclineu/ramcir/Desktop/Diffusion/Subs/1000432/dMRI/dMRI/bvecs\"\n",
      "1000853  is being prepared for QC\n",
      "1000853  is running QUAD\n",
      "/home/preclineu/ramcir/DCCN/Scripts/SubmitToCluster.py -length 102400 -memory 2gb -logfiledir /home/preclineu/ramcir/DCCN/TorqueLogs -name UKB_eddy_quad -command \"eddy_quad /home/preclineu/ramcir/Desktop/Diffusion/Subs/1000853/dMRI/dMRI/data -idx /home/preclineu/ramcir/Desktop/Diffusion/Subs/1000853/dMRI/dMRI/index.txt -par /home/preclineu/ramcir/Desktop/Diffusion/Subs/1000853/dMRI/dMRI/acqparams.txt -m /home/preclineu/ramcir/Desktop/Diffusion/Subs/1000853/dMRI/dMRI/nodif_mask -b /home/preclineu/ramcir/Desktop/Diffusion/Subs/1000853/dMRI/dMRI/bvals -g /home/preclineu/ramcir/Desktop/Diffusion/Subs/1000853/dMRI/dMRI/bvecs\"\n"
     ]
    }
   ],
   "source": [
    "num_submitted = 0\n",
    "num_completed = 0\n",
    "sub_no_dmri = []\n",
    "sub_no_eddy = []\n",
    "sub_ready = []\n",
    "\n",
    "# Control the number of jobs to submit\n",
    "sdirs = sub_dirs[0:3]\n",
    "quad_folders = open(os.path.join(qcdir,'quad_folders.txt'), 'a')\n",
    "\n",
    "for s in sdirs:\n",
    "    subid = os.path.splitext(os.path.basename(s))[0]\n",
    "\n",
    "    dmridir = os.path.join(s, 'dMRI', 'dMRI')\n",
    "    quaddir = os.path.join(dmridir, 'data.qc')\n",
    "    eddyfile = os.path.join(dmridir, 'data.eddy_parameters')\n",
    "\n",
    "    if os.path.exists(dmridir) == False:  \n",
    "        print(subid,' dMRI data not found. Doing nothing')\n",
    "        sub_no_dmri.append(subid)\n",
    "        continue\n",
    "        \n",
    "    if os.path.exists(eddyfile) == False:\n",
    "        print(subid,' EDDY data not found. Doing nothing')\n",
    "        sub_no_eddy.append(subid)\n",
    "        continue\n",
    "     \n",
    "    if os.path.exists(quaddir) == True:\n",
    "        print(subid,' QC already done. Doing nothing')\n",
    "        num_completed += 1\n",
    "        continue\n",
    "    \n",
    "    if os.path.exists(dmridir) == True and os.path.exists(quaddir) == False:\n",
    "        print(subid,' is being prepared for QC')\n",
    "        prep_sub(dmridir)\n",
    "        \n",
    "        print(subid,' is running QUAD')       \n",
    "        quad_cmd = ['eddy_quad ' + dmridir + '/data',\n",
    "            '-idx ' + dmridir + '/index.txt',\n",
    "            '-par ' + dmridir + '/acqparams.txt',\n",
    "            '-m ' + dmridir + '/nodif_mask', \n",
    "            '-b ' + dmridir + '/bvals ' \n",
    "            '-g '  + dmridir + '/bvecs']\n",
    "\n",
    "        cmd_str = '\"%s\"' % str(' '.join(quad_cmd)) \n",
    "        cmd_qsub = cmd_qsub_base + ['-name', 'UKB_eddy_quad','-command', cmd_str]\n",
    "        print(' '.join(cmd_qsub))\n",
    "        subprocess.Popen(' '.join(cmd_qsub), shell=True, stdout=subprocess.PIPE, stderr=subprocess.PIPE)\n",
    "#         out, err = p.communicate()\n",
    "#         print(out)\n",
    "#         print(err)\n",
    "        num_submitted += 1\n",
    "        quad_folders.write(quaddir + '\\n')\n",
    "        \n",
    "quad_folders.close()"
   ]
  },
  {
   "cell_type": "code",
   "execution_count": null,
   "metadata": {},
   "outputs": [],
   "source": [
    "def squad_sub(rootdir):    \n",
    "        squad_cmd = 'eddy_squad'\n",
    "        quad_folders = os.path.join(qcdir,'quad_folders.txt')\n",
    "        prep_cmd = \"cd \" + rootdir + \" && \" + squad_cmd + ' ' + quad_folders\n",
    "        process = subprocess.run(prep_cmd, shell = True, stdout=subprocess.PIPE, stderr=subprocess.PIPE)"
   ]
  }
 ],
 "metadata": {
  "kernelspec": {
   "display_name": "Python 3",
   "language": "python",
   "name": "python3"
  },
  "language_info": {
   "codemirror_mode": {
    "name": "ipython",
    "version": 3
   },
   "file_extension": ".py",
   "mimetype": "text/x-python",
   "name": "python",
   "nbconvert_exporter": "python",
   "pygments_lexer": "ipython3",
   "version": "3.6.2"
  }
 },
 "nbformat": 4,
 "nbformat_minor": 2
}
