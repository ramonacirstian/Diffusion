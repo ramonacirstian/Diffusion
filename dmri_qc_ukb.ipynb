{
 "cells": [
  {
   "cell_type": "markdown",
   "metadata": {},
   "source": [
    "### Globals"
   ]
  },
  {
   "cell_type": "code",
   "execution_count": 30,
   "metadata": {},
   "outputs": [
    {
     "name": "stdout",
     "output_type": "stream",
     "text": [
      "Found 42766 subjects to process\n"
     ]
    }
   ],
   "source": [
    "import os\n",
    "import glob\n",
    "import subprocess\n",
    "import sys\n",
    "\n",
    "rootdir = '/project_freenas/3022017.02/UKB'\n",
    "qcdir = os.path.join(rootdir, 'qc', 'dMRI')\n",
    "\n",
    "if os.path.exists(qcdir) == False:\n",
    "    os.mkdir(os.path.join(rootdir, 'qc', 'dMRI'))\n",
    "else: pass\n",
    "\n",
    "cluster_log_dir = '/home/preclineu/ramcir/DCCN/TorqueLogs'\n",
    "\n",
    "cmd_qsub_base = ['/home/preclineu/ramcir/DCCN/Scripts/SubmitToCluster.py',\n",
    "                 '-length', '102400',\n",
    "                 '-memory', '2gb',\n",
    "                 '-logfiledir', cluster_log_dir\n",
    "                ]\n",
    "\n",
    "# get a list of subjects to process\n",
    "sub_dirs = sorted(glob.glob(os.path.join(rootdir,'subjects','*')))\n",
    "print('Found', len(sub_dirs), 'subjects to process')"
   ]
  },
  {
   "cell_type": "markdown",
   "metadata": {},
   "source": [
    "### Sort subjects"
   ]
  },
  {
   "cell_type": "code",
   "execution_count": 47,
   "metadata": {},
   "outputs": [
    {
     "name": "stdout",
     "output_type": "stream",
     "text": [
      "1000050  EDDY data not found.\n",
      "1000432  QC already done.\n",
      "1000853  QC already done.\n",
      "1000871  QC already done.\n",
      "1000910  QC already done.\n",
      "1001018  dMRI data not found.\n",
      "1001169  dMRI data not found.\n",
      "1001197  EDDY data not found.\n",
      "1001309  QC already done.\n",
      "1001410  EDDY data not found.\n",
      "1001525  QC already done.\n",
      "1001679  QC already done.\n",
      "1001815  QC already done.\n",
      "1001849  dMRI data not found.\n",
      "1001922  QC already done.\n",
      "1001958  QC already done.\n",
      "1002081  is ready for QC\n",
      "1002118  is ready for QC\n",
      "1002421  is ready for QC\n"
     ]
    }
   ],
   "source": [
    "sub_no_dmri = []\n",
    "sub_no_eddy = []\n",
    "sub_ready = []\n",
    "sub_complete = []\n",
    "\n",
    "# Control the number of subjects\n",
    "sdirs = sub_dirs[0:19]\n",
    "\n",
    "for s in sdirs:\n",
    "    subid = os.path.splitext(os.path.basename(s))[0]\n",
    "\n",
    "    dmridir = os.path.join(s, 'dMRI', 'dMRI')\n",
    "    quaddir = os.path.join(dmridir, 'data.qc')  \n",
    "    eddyfile = os.path.join(dmridir, 'data.eddy_parameters')\n",
    "    \n",
    "    try:\n",
    "        #Check if dMRI data is avalable\n",
    "        if os.path.exists(dmridir) == False:  \n",
    "            print(subid,' dMRI data not found.')\n",
    "            sub_no_dmri.append(subid)\n",
    "        else: \n",
    "            #Check if EDDY files are available\n",
    "            if os.path.exists(eddyfile) == False:\n",
    "                print(subid,' EDDY data not found.')\n",
    "                sub_no_eddy.append(subid)\n",
    "            else:  \n",
    "                #Check if quad has already been run\n",
    "                if os.path.exists(quaddir) == True:\n",
    "                    print(subid,' QC already done.') \n",
    "                    sub_complete.append(s)\n",
    "                else:\n",
    "                    print(subid,' is ready for QC') \n",
    "                    sub_ready.append(s)\n",
    "    except:\n",
    "        print(subid, ' ignored due to', sys.exc_info()[0], '. Continuing with the next subject.')"
   ]
  },
  {
   "cell_type": "markdown",
   "metadata": {},
   "source": [
    "### Run QUAD"
   ]
  },
  {
   "cell_type": "code",
   "execution_count": 33,
   "metadata": {},
   "outputs": [],
   "source": [
    "quad_paths = os.path.join(qcdir,'quad_paths.txt')\n",
    "open(quad_paths, 'a').close()"
   ]
  },
  {
   "cell_type": "code",
   "execution_count": 34,
   "metadata": {},
   "outputs": [
    {
     "name": "stdout",
     "output_type": "stream",
     "text": [
      "1000432  QUAD running\n",
      "1000853  QUAD running\n",
      "1000871  QUAD running\n",
      "1000910  QUAD running\n",
      "1001309  QUAD running\n",
      "1001525  QUAD running\n",
      "1001679  QUAD running\n",
      "1001815  QUAD running\n",
      "1001922  QUAD running\n",
      "1001958  QUAD running\n"
     ]
    }
   ],
   "source": [
    "for s in sub_ready[0:10]:  \n",
    "    subid = os.path.splitext(os.path.basename(s))[0]\n",
    "    dmridir = os.path.join(s, 'dMRI', 'dMRI')\n",
    "    mask_dir = os.path.join(dmridir,'nodif_mask.nii.gz')\n",
    "    acqparam_file = os.path.join(dmridir, 'acqparam.txt')\n",
    "    idx_file = os.path.join(dmridir, 'index.txt')\n",
    "    quaddir = os.path.join(dmridir, 'data.qc')  \n",
    "\n",
    "    \n",
    "    if os.path.exists(quaddir) == True:\n",
    "        print(subid,' QC already done. Doing nothing')\n",
    "    else:\n",
    "        print(subid,' QUAD running')\n",
    "        #Create symbolic link for data_ud with the name data\n",
    "        #This is necessary for running 'quad' since all other eddy outputs are called data.eddy.\n",
    "        os.chdir(dmridir)\n",
    "        if os.path.islink('./data.nii.gz') == False:\n",
    "            os.symlink('./data_ud.nii.gz', './data.nii.gz')\n",
    "        else: pass\n",
    "\n",
    "        #Create aquision parameters file and index file\n",
    "        #The acquisition parameters file is based on dataset acq documentation\n",
    "        #i.e. AP dir = 0 1 0, PA dir = 0 -1 0, Echo spacing = 0.67 ms, EPI factor = 104 (for UKB)\n",
    "        if os.path.exists(acqparam_file) == False:\n",
    "            with open(os.path.join(dmridir,'acqparams.txt'), 'w') as acqparams:\n",
    "                acqparams.write('0 1 0 0.069\\n0 -1 0 0.069')\n",
    "        else:pass\n",
    "\n",
    "        #The index file indicated the direction in which each volume was aquired (based on aqcparams.txt)\n",
    "        #count number of volumes present in data\n",
    "        if os.path.exists(idx_file) == False:\n",
    "            with open(os.path.join(dmridir,'bvals'), 'r') as bvals:\n",
    "                data = bvals.read()\n",
    "                vols = data.split()\n",
    "                no_vols = len(vols)\n",
    "            with open(os.path.join(dmridir,'index.txt'), 'w') as index:\n",
    "                for vol in range(0,no_vols):    \n",
    "                    index.write('1 ')\n",
    "        else:pass\n",
    "    \n",
    "        #Write command for creating the b0 mask and run the bash process\n",
    "        if os.path.exists(mask_dir) == False:\n",
    "            fslroi_cmd = ['fslroi ' + dmridir + '/data.nii.gz',\n",
    "                           dmridir + '/b0_data.nii.gz' ' 0 1']\n",
    "            fslbet_cmd = ['bet ' + dmridir + '/b0_data.nii.gz',\n",
    "                           dmridir + '/nodif' ' -f 0.1 -g 0 -m -n']\n",
    "      \n",
    "        else:pass\n",
    "    \n",
    "        #Write command for running QUAD      \n",
    "        quad_cmd = ['eddy_quad ' + dmridir + '/data',\n",
    "                     '-idx ' + dmridir + '/index.txt',\n",
    "                     '-par ' + dmridir + '/acqparams.txt',\n",
    "                     '-m ' + dmridir + '/nodif_mask', \n",
    "                     '-b ' + dmridir + '/bvals ' \n",
    "                     '-g '  + dmridir + '/bvecs']\n",
    "\n",
    "        quad_cmd_str = '\"%s\"' % str(' '.join(quad_cmd)) \n",
    "\n",
    "        #Add the path of the qc folder to txt file (will be needed for SQUAD)\n",
    "        append_cmd = ['echo -e \"', quaddir, '\" >> ', quad_paths ]\n",
    "        append_cmd_str = '%s' % str(''.join(append_cmd))\n",
    "\n",
    "        #Join comands and sumbit process\n",
    "        proc_cmd = '\"%s\"' % str(' '.join(fslroi_cmd) + ' && ' + ' '.join(fslbet_cmd) + ' && ' + ' '.join(quad_cmd) + ' && ' + ''.join(append_cmd))\n",
    "        cmd_qsub = cmd_qsub_base + ['-name', 'UKB_quad','-command', proc_cmd]     \n",
    "        subprocess.run(' '.join(cmd_qsub), shell=True)\n",
    "             "
   ]
  },
  {
   "cell_type": "markdown",
   "metadata": {},
   "source": [
    "### Run SQUAD\n",
    "Only run after all subjects have quad"
   ]
  },
  {
   "cell_type": "code",
   "execution_count": 39,
   "metadata": {},
   "outputs": [
    {
     "name": "stdout",
     "output_type": "stream",
     "text": [
      "eddy_squad /project_freenas/3022017.02/UKB/qc/dMRI/quad_paths.txt -o /project_freenas/3022017.02/UKB/qc/dMRI/squad\n"
     ]
    },
    {
     "data": {
      "text/plain": [
       "CompletedProcess(args='eddy_squad /project_freenas/3022017.02/UKB/qc/dMRI/quad_paths.txt -o /project_freenas/3022017.02/UKB/qc/dMRI/squad', returncode=0)"
      ]
     },
     "execution_count": 39,
     "metadata": {},
     "output_type": "execute_result"
    }
   ],
   "source": [
    "squad_cmd = 'eddy_squad'\n",
    "quad_folders = os.path.join(qcdir,'quad_paths.txt')\n",
    "prep_cmd = squad_cmd + ' ' + os.path.join(qcdir,'quad_paths.txt') + ' -o ' + os.path.join(qcdir,'squad')\n",
    "print(prep_cmd)\n",
    "subprocess.run(prep_cmd, shell = True)        "
   ]
  },
  {
   "cell_type": "markdown",
   "metadata": {},
   "source": [
    "### Run slicesdir\n",
    "To check the binary mask"
   ]
  },
  {
   "cell_type": "code",
   "execution_count": 50,
   "metadata": {},
   "outputs": [
    {
     "data": {
      "text/plain": [
       "CompletedProcess(args='slicesdir -o /project_freenas/3022017.02/UKB/subjects/1000432/dMRI/dMRI/b0_data.nii.gz /project_freenas/3022017.02/UKB/subjects/1000432/dMRI/dMRI/nodif_mask.nii.gz /project_freenas/3022017.02/UKB/subjects/1000853/dMRI/dMRI/b0_data.nii.gz /project_freenas/3022017.02/UKB/subjects/1000853/dMRI/dMRI/nodif_mask.nii.gz /project_freenas/3022017.02/UKB/subjects/1000871/dMRI/dMRI/b0_data.nii.gz /project_freenas/3022017.02/UKB/subjects/1000871/dMRI/dMRI/nodif_mask.nii.gz /project_freenas/3022017.02/UKB/subjects/1000910/dMRI/dMRI/b0_data.nii.gz /project_freenas/3022017.02/UKB/subjects/1000910/dMRI/dMRI/nodif_mask.nii.gz /project_freenas/3022017.02/UKB/subjects/1001309/dMRI/dMRI/b0_data.nii.gz /project_freenas/3022017.02/UKB/subjects/1001309/dMRI/dMRI/nodif_mask.nii.gz /project_freenas/3022017.02/UKB/subjects/1001525/dMRI/dMRI/b0_data.nii.gz /project_freenas/3022017.02/UKB/subjects/1001525/dMRI/dMRI/nodif_mask.nii.gz /project_freenas/3022017.02/UKB/subjects/1001679/dMRI/dMRI/b0_data.nii.gz /project_freenas/3022017.02/UKB/subjects/1001679/dMRI/dMRI/nodif_mask.nii.gz /project_freenas/3022017.02/UKB/subjects/1001815/dMRI/dMRI/b0_data.nii.gz /project_freenas/3022017.02/UKB/subjects/1001815/dMRI/dMRI/nodif_mask.nii.gz /project_freenas/3022017.02/UKB/subjects/1001922/dMRI/dMRI/b0_data.nii.gz /project_freenas/3022017.02/UKB/subjects/1001922/dMRI/dMRI/nodif_mask.nii.gz ', returncode=0)"
      ]
     },
     "execution_count": 50,
     "metadata": {},
     "output_type": "execute_result"
    }
   ],
   "source": [
    "string = \"\"\n",
    "\n",
    "#this is where the slicesdir will be saved\n",
    "os.chdir(qcdir)\n",
    "\n",
    "#append the path to b0_data and nodif_mask for each sub\n",
    "for s in sub_complete[0:9]:\n",
    "    dmridir = os.path.join(s, 'dMRI', 'dMRI')\n",
    "    string+=str(dmridir + '/b0_data.nii.gz ' + dmridir + '/nodif_mask.nii.gz' + ' ')\n",
    "\n",
    "#prep and run the slicesdir command\n",
    "slices_cmd = 'slicesdir'\n",
    "prep_cmd = slices_cmd + ' -o ' + string\n",
    "subprocess.run(prep_cmd, shell = True)"
   ]
  },
  {
   "cell_type": "code",
   "execution_count": null,
   "metadata": {},
   "outputs": [],
   "source": []
  }
 ],
 "metadata": {
  "kernelspec": {
   "display_name": "Python 3",
   "language": "python",
   "name": "python3"
  },
  "language_info": {
   "codemirror_mode": {
    "name": "ipython",
    "version": 3
   },
   "file_extension": ".py",
   "mimetype": "text/x-python",
   "name": "python",
   "nbconvert_exporter": "python",
   "pygments_lexer": "ipython3",
   "version": "3.6.2"
  }
 },
 "nbformat": 4,
 "nbformat_minor": 2
}
